{
 "cells": [
  {
   "cell_type": "code",
   "execution_count": 101,
   "metadata": {},
   "outputs": [],
   "source": [
    "import pandas as pd\n",
    "import numpy as np\n",
    "import matplotlib.pyplot as plt\n",
    "import matplotlib.font_manager as font_manager\n",
    "from sklearn.pipeline import Pipeline\n",
    "from sklearn.model_selection import GroupKFold\n",
    "from sklearn.preprocessing import PolynomialFeatures, StandardScaler\n",
    "from sklearn.metrics import make_scorer\n",
    "from sklearn.dummy import DummyRegressor\n",
    "from sklearn.linear_model import Ridge\n",
    "from sklearn.tree import DecisionTreeRegressor\n",
    "from sklearn.ensemble import RandomForestRegressor, AdaBoostRegressor\n",
    "from xgboost import XGBRegressor\n",
    "from skopt import BayesSearchCV\n",
    "from skopt.space import Real, Categorical, Integer\n",
    "from skopt.callbacks import VerboseCallback\n",
    "import shap\n",
    "import pickle\n",
    "\n",
    "import matplotlib\n",
    "matplotlib.rcParams.update({\"text.usetex\": True, \"font.family\": \"Times\"})"
   ]
  },
  {
   "cell_type": "code",
   "execution_count": 20,
   "metadata": {},
   "outputs": [],
   "source": [
    "# Read in the model parameters from the top of the data file\n",
    "with open(\"../data/data.csv\", \"r\") as f:\n",
    "    params = dict([(param, float(val)) for (param, val) in [pair.split('=') for pair in f.readline().split(',')]])"
   ]
  },
  {
   "cell_type": "code",
   "execution_count": 21,
   "metadata": {},
   "outputs": [],
   "source": [
    "# Read in the dataset from the CSV file\n",
    "df = pd.read_csv(\"../data/data.csv\", skiprows=1)"
   ]
  },
  {
   "cell_type": "code",
   "execution_count": 22,
   "metadata": {},
   "outputs": [],
   "source": [
    "# Separate the dataset into the group, features, and target variable\n",
    "grp = df[\"group\"]\n",
    "X = df.drop(columns=[\"group\", \"u\"])\n",
    "y = df[\"u\"]"
   ]
  },
  {
   "cell_type": "code",
   "execution_count": 47,
   "metadata": {},
   "outputs": [
    {
     "name": "stdout",
     "output_type": "stream",
     "text": [
      "Baseline MAAPE score:  0.7986209555010144\n"
     ]
    }
   ],
   "source": [
    "def MAAPE(y, y_pred):\n",
    "    return np.mean(np.arctan2(np.abs(y - y_pred), np.abs(y)))\n",
    "    \n",
    "maape_scorer = make_scorer(MAAPE, greater_is_better=False)\n",
    "\n",
    "maape_base = MAAPE(y, DummyRegressor(strategy=\"mean\").fit(X, y).predict(X))\n",
    "print(\"Baseline MAAPE score: \", maape_base)"
   ]
  },
  {
   "cell_type": "code",
   "execution_count": 115,
   "metadata": {},
   "outputs": [],
   "source": [
    "models = [\n",
    "    {\"model\": Pipeline([(\"pf\", PolynomialFeatures()), (\"ss\", StandardScaler()), (\"ridge\", Ridge(random_state=0))]),\n",
    "     \"search_space\": {\"pf__degree\": Integer(1, 6), \"ridge__alpha\": Real(1e-5, 1e5, prior=\"log-uniform\")},\n",
    "     \"name\": \"Polynomial Ridge\"},\n",
    "    {\"model\": RandomForestRegressor(n_estimators=10, random_state=0),\n",
    "     \"search_space\": {\"max_depth\": Integer(1, 50), \"max_samples\": Real(0.01, 0.99, \"uniform\")},\n",
    "     \"name\": \"Random Forest\"},\n",
    "    {\"model\": AdaBoostRegressor(DecisionTreeRegressor(), n_estimators=10, random_state=0),\n",
    "     \"search_space\": {\"base_estimator__max_depth\": Integer(1, 50)},\n",
    "     \"name\": \"AdaBoost\"},\n",
    "    {\"model\": XGBRegressor(n_estimators=10, random_state=0),\n",
    "     \"search_space\": {\"max_depth\": Integer(1, 50), \"reg_alpha\": Real(1e-8, 1e8, \"log-uniform\"), \"reg_lambda\": Real(1e-8, 1e8, \"log-uniform\")},\n",
    "     \"name\": \"XGBoost\"}\n",
    "]"
   ]
  },
  {
   "cell_type": "code",
   "execution_count": 116,
   "metadata": {
    "scrolled": true
   },
   "outputs": [
    {
     "name": "stdout",
     "output_type": "stream",
     "text": [
      "tuning hyperparameters for Polynomial Ridge...\n",
      "Iteration No: 1 started. Searching for the next optimal point.\n",
      "Iteration No: 1 ended. Search finished for the next optimal point.\n",
      "Time taken: 0.6347\n",
      "Function value obtained: 0.3370\n",
      "Current minimum: 0.3370\n",
      "Iteration No: 2 started. Searching for the next optimal point.\n",
      "Iteration No: 2 ended. Search finished for the next optimal point.\n",
      "Time taken: 0.1827\n",
      "Function value obtained: 0.7332\n",
      "Current minimum: 0.3370\n",
      "Iteration No: 3 started. Searching for the next optimal point.\n",
      "Iteration No: 3 ended. Search finished for the next optimal point.\n",
      "Time taken: 0.5570\n",
      "Function value obtained: 0.3317\n",
      "Current minimum: 0.3317\n",
      "Iteration No: 4 started. Searching for the next optimal point.\n",
      "Iteration No: 4 ended. Search finished for the next optimal point.\n",
      "Time taken: 0.1819\n",
      "Function value obtained: 0.5959\n",
      "Current minimum: 0.3317\n",
      "Iteration No: 5 started. Searching for the next optimal point.\n",
      "Iteration No: 5 ended. Search finished for the next optimal point.\n",
      "Time taken: 0.1885\n",
      "Function value obtained: 0.5797\n",
      "Current minimum: 0.3317\n",
      "Iteration No: 6 started. Searching for the next optimal point.\n",
      "Iteration No: 6 ended. Search finished for the next optimal point.\n",
      "Time taken: 0.9828\n",
      "Function value obtained: 0.6164\n",
      "Current minimum: 0.3317\n",
      "Iteration No: 7 started. Searching for the next optimal point.\n",
      "Iteration No: 7 ended. Search finished for the next optimal point.\n",
      "Time taken: 1.5560\n",
      "Function value obtained: 0.3368\n",
      "Current minimum: 0.3317\n",
      "Iteration No: 8 started. Searching for the next optimal point.\n",
      "Iteration No: 8 ended. Search finished for the next optimal point.\n",
      "Time taken: 0.5643\n",
      "Function value obtained: 0.3304\n",
      "Current minimum: 0.3304\n",
      "Iteration No: 9 started. Searching for the next optimal point.\n",
      "Iteration No: 9 ended. Search finished for the next optimal point.\n",
      "Time taken: 0.1209\n",
      "Function value obtained: 0.6952\n",
      "Current minimum: 0.3304\n",
      "Iteration No: 10 started. Searching for the next optimal point.\n",
      "Iteration No: 10 ended. Search finished for the next optimal point.\n",
      "Time taken: 0.9920\n",
      "Function value obtained: 0.3572\n",
      "Current minimum: 0.3304\n",
      "Iteration No: 11 started. Searching for the next optimal point.\n",
      "Iteration No: 11 ended. Search finished for the next optimal point.\n",
      "Time taken: 2.5302\n",
      "Function value obtained: 0.2309\n",
      "Current minimum: 0.2309\n",
      "Iteration No: 12 started. Searching for the next optimal point.\n",
      "Iteration No: 12 ended. Search finished for the next optimal point.\n",
      "Time taken: 2.3127\n",
      "Function value obtained: 0.2310\n",
      "Current minimum: 0.2309\n",
      "Iteration No: 13 started. Searching for the next optimal point.\n",
      "Iteration No: 13 ended. Search finished for the next optimal point.\n",
      "Time taken: 2.2940\n",
      "Function value obtained: 0.2363\n",
      "Current minimum: 0.2309\n",
      "Iteration No: 14 started. Searching for the next optimal point.\n",
      "Iteration No: 14 ended. Search finished for the next optimal point.\n",
      "Time taken: 2.3591\n",
      "Function value obtained: 0.2320\n",
      "Current minimum: 0.2309\n",
      "Iteration No: 15 started. Searching for the next optimal point.\n"
     ]
    },
    {
     "name": "stderr",
     "output_type": "stream",
     "text": [
      "The objective has been evaluated at this point before.\n"
     ]
    },
    {
     "name": "stdout",
     "output_type": "stream",
     "text": [
      "Iteration No: 15 ended. Search finished for the next optimal point.\n",
      "Time taken: 2.2429\n",
      "Function value obtained: 0.2309\n",
      "Current minimum: 0.2309\n",
      "Iteration No: 16 started. Searching for the next optimal point.\n",
      "Iteration No: 16 ended. Search finished for the next optimal point.\n",
      "Time taken: 2.2827\n",
      "Function value obtained: 0.2417\n",
      "Current minimum: 0.2309\n",
      "Iteration No: 17 started. Searching for the next optimal point.\n"
     ]
    },
    {
     "name": "stderr",
     "output_type": "stream",
     "text": [
      "The objective has been evaluated at this point before.\n"
     ]
    },
    {
     "name": "stdout",
     "output_type": "stream",
     "text": [
      "Iteration No: 17 ended. Search finished for the next optimal point.\n",
      "Time taken: 2.3229\n",
      "Function value obtained: 0.2309\n",
      "Current minimum: 0.2309\n",
      "Iteration No: 18 started. Searching for the next optimal point.\n"
     ]
    },
    {
     "name": "stderr",
     "output_type": "stream",
     "text": [
      "The objective has been evaluated at this point before.\n"
     ]
    },
    {
     "name": "stdout",
     "output_type": "stream",
     "text": [
      "Iteration No: 18 ended. Search finished for the next optimal point.\n",
      "Time taken: 2.3591\n",
      "Function value obtained: 0.2309\n",
      "Current minimum: 0.2309\n",
      "Iteration No: 19 started. Searching for the next optimal point.\n"
     ]
    },
    {
     "name": "stderr",
     "output_type": "stream",
     "text": [
      "The objective has been evaluated at this point before.\n"
     ]
    },
    {
     "name": "stdout",
     "output_type": "stream",
     "text": [
      "Iteration No: 19 ended. Search finished for the next optimal point.\n",
      "Time taken: 2.4187\n",
      "Function value obtained: 0.2309\n",
      "Current minimum: 0.2309\n",
      "Iteration No: 20 started. Searching for the next optimal point.\n",
      "Iteration No: 20 ended. Search finished for the next optimal point.\n",
      "Time taken: 1.8399\n",
      "Function value obtained: 0.2656\n",
      "Current minimum: 0.2309\n",
      "Iteration No: 21 started. Searching for the next optimal point.\n",
      "Iteration No: 21 ended. Search finished for the next optimal point.\n",
      "Time taken: 2.0596\n",
      "Function value obtained: 0.2657\n",
      "Current minimum: 0.2309\n",
      "Iteration No: 22 started. Searching for the next optimal point.\n",
      "Iteration No: 22 ended. Search finished for the next optimal point.\n",
      "Time taken: 2.5413\n",
      "Function value obtained: 0.2309\n",
      "Current minimum: 0.2309\n",
      "Iteration No: 23 started. Searching for the next optimal point.\n",
      "Iteration No: 23 ended. Search finished for the next optimal point.\n",
      "Time taken: 2.8618\n",
      "Function value obtained: 0.2352\n",
      "Current minimum: 0.2309\n",
      "Iteration No: 24 started. Searching for the next optimal point.\n",
      "Iteration No: 24 ended. Search finished for the next optimal point.\n",
      "Time taken: 2.6049\n",
      "Function value obtained: 0.2351\n",
      "Current minimum: 0.2309\n",
      "Iteration No: 25 started. Searching for the next optimal point.\n",
      "Iteration No: 25 ended. Search finished for the next optimal point.\n",
      "Time taken: 2.7476\n",
      "Function value obtained: 0.2351\n",
      "Current minimum: 0.2309\n",
      "Iteration No: 26 started. Searching for the next optimal point.\n",
      "Iteration No: 26 ended. Search finished for the next optimal point.\n",
      "Time taken: 2.3992\n",
      "Function value obtained: 0.2747\n",
      "Current minimum: 0.2309\n",
      "Iteration No: 27 started. Searching for the next optimal point.\n",
      "Iteration No: 27 ended. Search finished for the next optimal point.\n",
      "Time taken: 2.6858\n",
      "Function value obtained: 0.2315\n",
      "Current minimum: 0.2309\n",
      "Iteration No: 28 started. Searching for the next optimal point.\n",
      "Iteration No: 28 ended. Search finished for the next optimal point.\n",
      "Time taken: 1.1580\n",
      "Function value obtained: 0.6911\n",
      "Current minimum: 0.2309\n",
      "Iteration No: 29 started. Searching for the next optimal point.\n",
      "Iteration No: 29 ended. Search finished for the next optimal point.\n",
      "Time taken: 2.5378\n",
      "Function value obtained: 0.2309\n",
      "Current minimum: 0.2309\n",
      "Iteration No: 30 started. Searching for the next optimal point.\n",
      "Iteration No: 30 ended. Search finished for the next optimal point.\n",
      "Time taken: 1.7942\n",
      "Function value obtained: 0.3573\n",
      "Current minimum: 0.2309\n",
      "Iteration No: 31 started. Searching for the next optimal point.\n",
      "Iteration No: 31 ended. Search finished for the next optimal point.\n",
      "Time taken: 3.1868\n",
      "Function value obtained: 0.2314\n",
      "Current minimum: 0.2309\n",
      "Iteration No: 32 started. Searching for the next optimal point.\n",
      "Iteration No: 32 ended. Search finished for the next optimal point.\n",
      "Time taken: 2.4206\n",
      "Function value obtained: 0.2670\n",
      "Current minimum: 0.2309\n",
      "Iteration No: 33 started. Searching for the next optimal point.\n",
      "Iteration No: 33 ended. Search finished for the next optimal point.\n",
      "Time taken: 2.6813\n",
      "Function value obtained: 0.2315\n",
      "Current minimum: 0.2309\n",
      "Iteration No: 34 started. Searching for the next optimal point.\n",
      "Iteration No: 34 ended. Search finished for the next optimal point.\n",
      "Time taken: 1.6496\n",
      "Function value obtained: 0.3500\n",
      "Current minimum: 0.2309\n",
      "Iteration No: 35 started. Searching for the next optimal point.\n",
      "Iteration No: 35 ended. Search finished for the next optimal point.\n",
      "Time taken: 2.7803\n",
      "Function value obtained: 0.2316\n",
      "Current minimum: 0.2309\n",
      "Iteration No: 36 started. Searching for the next optimal point.\n",
      "Iteration No: 36 ended. Search finished for the next optimal point.\n",
      "Time taken: 2.8979\n",
      "Function value obtained: 0.2316\n",
      "Current minimum: 0.2309\n",
      "Iteration No: 37 started. Searching for the next optimal point.\n",
      "Iteration No: 37 ended. Search finished for the next optimal point.\n",
      "Time taken: 2.7385\n",
      "Function value obtained: 0.2316\n",
      "Current minimum: 0.2309\n",
      "Iteration No: 38 started. Searching for the next optimal point.\n",
      "Iteration No: 38 ended. Search finished for the next optimal point.\n",
      "Time taken: 2.8343\n",
      "Function value obtained: 0.2316\n",
      "Current minimum: 0.2309\n",
      "Iteration No: 39 started. Searching for the next optimal point.\n",
      "Iteration No: 39 ended. Search finished for the next optimal point.\n",
      "Time taken: 2.8424\n",
      "Function value obtained: 0.2316\n",
      "Current minimum: 0.2309\n",
      "Iteration No: 40 started. Searching for the next optimal point.\n",
      "Iteration No: 40 ended. Search finished for the next optimal point.\n",
      "Time taken: 2.9940\n",
      "Function value obtained: 0.2316\n",
      "Current minimum: 0.2309\n",
      "Iteration No: 41 started. Searching for the next optimal point.\n",
      "Iteration No: 41 ended. Search finished for the next optimal point.\n",
      "Time taken: 2.4659\n",
      "Function value obtained: 0.3317\n",
      "Current minimum: 0.2309\n",
      "Iteration No: 42 started. Searching for the next optimal point.\n",
      "Iteration No: 42 ended. Search finished for the next optimal point.\n",
      "Time taken: 2.9533\n",
      "Function value obtained: 0.2309\n",
      "Current minimum: 0.2309\n",
      "Iteration No: 43 started. Searching for the next optimal point.\n",
      "Iteration No: 43 ended. Search finished for the next optimal point.\n",
      "Time taken: 3.0795\n",
      "Function value obtained: 0.2309\n",
      "Current minimum: 0.2309\n",
      "Iteration No: 44 started. Searching for the next optimal point.\n",
      "Iteration No: 44 ended. Search finished for the next optimal point.\n",
      "Time taken: 2.9056\n",
      "Function value obtained: 0.2309\n",
      "Current minimum: 0.2309\n",
      "Iteration No: 45 started. Searching for the next optimal point.\n",
      "Iteration No: 45 ended. Search finished for the next optimal point.\n",
      "Time taken: 3.0060\n",
      "Function value obtained: 0.2309\n",
      "Current minimum: 0.2309\n",
      "Iteration No: 46 started. Searching for the next optimal point.\n",
      "Iteration No: 46 ended. Search finished for the next optimal point.\n",
      "Time taken: 3.0258\n",
      "Function value obtained: 0.2309\n",
      "Current minimum: 0.2309\n",
      "Iteration No: 47 started. Searching for the next optimal point.\n",
      "Iteration No: 47 ended. Search finished for the next optimal point.\n",
      "Time taken: 3.0737\n",
      "Function value obtained: 0.2309\n",
      "Current minimum: 0.2309\n",
      "Iteration No: 48 started. Searching for the next optimal point.\n",
      "Iteration No: 48 ended. Search finished for the next optimal point.\n",
      "Time taken: 3.0007\n",
      "Function value obtained: 0.2309\n",
      "Current minimum: 0.2309\n",
      "Iteration No: 49 started. Searching for the next optimal point.\n",
      "Iteration No: 49 ended. Search finished for the next optimal point.\n",
      "Time taken: 3.0706\n",
      "Function value obtained: 0.2309\n",
      "Current minimum: 0.2309\n",
      "Iteration No: 50 started. Searching for the next optimal point.\n",
      "Iteration No: 50 ended. Search finished for the next optimal point.\n",
      "Time taken: 3.1561\n",
      "Function value obtained: 0.2309\n",
      "Current minimum: 0.2309\n",
      "Iteration No: 51 started. Searching for the next optimal point.\n",
      "Iteration No: 51 ended. Search finished for the next optimal point.\n",
      "Time taken: 3.2106\n",
      "Function value obtained: 0.2309\n",
      "Current minimum: 0.2309\n",
      "Iteration No: 52 started. Searching for the next optimal point.\n",
      "Iteration No: 52 ended. Search finished for the next optimal point.\n",
      "Time taken: 3.1337\n",
      "Function value obtained: 0.2309\n",
      "Current minimum: 0.2309\n",
      "Iteration No: 53 started. Searching for the next optimal point.\n",
      "Iteration No: 53 ended. Search finished for the next optimal point.\n",
      "Time taken: 3.1949\n",
      "Function value obtained: 0.2309\n",
      "Current minimum: 0.2309\n",
      "Iteration No: 54 started. Searching for the next optimal point.\n",
      "Iteration No: 54 ended. Search finished for the next optimal point.\n",
      "Time taken: 3.2237\n",
      "Function value obtained: 0.2309\n",
      "Current minimum: 0.2309\n",
      "Iteration No: 55 started. Searching for the next optimal point.\n",
      "Iteration No: 55 ended. Search finished for the next optimal point.\n",
      "Time taken: 3.4071\n",
      "Function value obtained: 0.2309\n",
      "Current minimum: 0.2309\n",
      "Iteration No: 56 started. Searching for the next optimal point.\n",
      "Iteration No: 56 ended. Search finished for the next optimal point.\n",
      "Time taken: 3.2774\n",
      "Function value obtained: 0.2309\n",
      "Current minimum: 0.2309\n",
      "Iteration No: 57 started. Searching for the next optimal point.\n",
      "Iteration No: 57 ended. Search finished for the next optimal point.\n",
      "Time taken: 3.3096\n",
      "Function value obtained: 0.2309\n",
      "Current minimum: 0.2309\n",
      "Iteration No: 58 started. Searching for the next optimal point.\n",
      "Iteration No: 58 ended. Search finished for the next optimal point.\n",
      "Time taken: 3.4068\n",
      "Function value obtained: 0.2309\n",
      "Current minimum: 0.2309\n",
      "Iteration No: 59 started. Searching for the next optimal point.\n",
      "Iteration No: 59 ended. Search finished for the next optimal point.\n",
      "Time taken: 3.4605\n",
      "Function value obtained: 0.2309\n",
      "Current minimum: 0.2309\n",
      "Iteration No: 60 started. Searching for the next optimal point.\n",
      "Iteration No: 60 ended. Search finished for the next optimal point.\n",
      "Time taken: 3.3817\n",
      "Function value obtained: 0.2309\n",
      "Current minimum: 0.2309\n",
      "Iteration No: 61 started. Searching for the next optimal point.\n",
      "Iteration No: 61 ended. Search finished for the next optimal point.\n",
      "Time taken: 3.5624\n",
      "Function value obtained: 0.2309\n",
      "Current minimum: 0.2309\n",
      "Iteration No: 62 started. Searching for the next optimal point.\n",
      "Iteration No: 62 ended. Search finished for the next optimal point.\n",
      "Time taken: 3.5034\n",
      "Function value obtained: 0.2309\n",
      "Current minimum: 0.2309\n",
      "Iteration No: 63 started. Searching for the next optimal point.\n",
      "Iteration No: 63 ended. Search finished for the next optimal point.\n",
      "Time taken: 3.6477\n",
      "Function value obtained: 0.2309\n",
      "Current minimum: 0.2309\n",
      "Iteration No: 64 started. Searching for the next optimal point.\n",
      "Iteration No: 64 ended. Search finished for the next optimal point.\n",
      "Time taken: 3.5612\n",
      "Function value obtained: 0.2309\n",
      "Current minimum: 0.2309\n",
      "Iteration No: 65 started. Searching for the next optimal point.\n",
      "Iteration No: 65 ended. Search finished for the next optimal point.\n",
      "Time taken: 3.5492\n",
      "Function value obtained: 0.2309\n",
      "Current minimum: 0.2309\n",
      "Iteration No: 66 started. Searching for the next optimal point.\n",
      "Iteration No: 66 ended. Search finished for the next optimal point.\n",
      "Time taken: 3.7092\n",
      "Function value obtained: 0.2309\n",
      "Current minimum: 0.2309\n",
      "Iteration No: 67 started. Searching for the next optimal point.\n",
      "Iteration No: 67 ended. Search finished for the next optimal point.\n",
      "Time taken: 3.9646\n",
      "Function value obtained: 0.2309\n",
      "Current minimum: 0.2309\n",
      "Iteration No: 68 started. Searching for the next optimal point.\n",
      "Iteration No: 68 ended. Search finished for the next optimal point.\n",
      "Time taken: 3.7703\n",
      "Function value obtained: 0.2309\n",
      "Current minimum: 0.2309\n",
      "Iteration No: 69 started. Searching for the next optimal point.\n"
     ]
    },
    {
     "name": "stderr",
     "output_type": "stream",
     "text": [
      "The objective has been evaluated at this point before.\n"
     ]
    },
    {
     "name": "stdout",
     "output_type": "stream",
     "text": [
      "Iteration No: 69 ended. Search finished for the next optimal point.\n",
      "Time taken: 3.7185\n",
      "Function value obtained: 0.2309\n",
      "Current minimum: 0.2309\n",
      "Iteration No: 70 started. Searching for the next optimal point.\n",
      "Iteration No: 70 ended. Search finished for the next optimal point.\n",
      "Time taken: 3.6720\n",
      "Function value obtained: 0.2309\n",
      "Current minimum: 0.2309\n",
      "Iteration No: 71 started. Searching for the next optimal point.\n",
      "Iteration No: 71 ended. Search finished for the next optimal point.\n",
      "Time taken: 3.8930\n",
      "Function value obtained: 0.2309\n",
      "Current minimum: 0.2309\n",
      "Iteration No: 72 started. Searching for the next optimal point.\n",
      "Iteration No: 72 ended. Search finished for the next optimal point.\n",
      "Time taken: 3.8668\n",
      "Function value obtained: 0.2309\n",
      "Current minimum: 0.2309\n",
      "Iteration No: 73 started. Searching for the next optimal point.\n",
      "Iteration No: 73 ended. Search finished for the next optimal point.\n",
      "Time taken: 3.8065\n",
      "Function value obtained: 0.2309\n",
      "Current minimum: 0.2309\n",
      "Iteration No: 74 started. Searching for the next optimal point.\n",
      "Iteration No: 74 ended. Search finished for the next optimal point.\n",
      "Time taken: 3.8417\n",
      "Function value obtained: 0.2309\n",
      "Current minimum: 0.2309\n",
      "Iteration No: 75 started. Searching for the next optimal point.\n",
      "Iteration No: 75 ended. Search finished for the next optimal point.\n",
      "Time taken: 3.9407\n",
      "Function value obtained: 0.2309\n",
      "Current minimum: 0.2309\n",
      "Iteration No: 76 started. Searching for the next optimal point.\n",
      "Iteration No: 76 ended. Search finished for the next optimal point.\n",
      "Time taken: 3.8430\n",
      "Function value obtained: 0.2309\n",
      "Current minimum: 0.2309\n",
      "Iteration No: 77 started. Searching for the next optimal point.\n",
      "Iteration No: 77 ended. Search finished for the next optimal point.\n",
      "Time taken: 3.8880\n",
      "Function value obtained: 0.2309\n",
      "Current minimum: 0.2309\n",
      "Iteration No: 78 started. Searching for the next optimal point.\n",
      "Iteration No: 78 ended. Search finished for the next optimal point.\n",
      "Time taken: 4.0310\n",
      "Function value obtained: 0.2309\n",
      "Current minimum: 0.2309\n",
      "Iteration No: 79 started. Searching for the next optimal point.\n",
      "Iteration No: 79 ended. Search finished for the next optimal point.\n",
      "Time taken: 4.0553\n",
      "Function value obtained: 0.2309\n",
      "Current minimum: 0.2309\n",
      "Iteration No: 80 started. Searching for the next optimal point.\n",
      "Iteration No: 80 ended. Search finished for the next optimal point.\n",
      "Time taken: 4.1398\n",
      "Function value obtained: 0.2309\n",
      "Current minimum: 0.2309\n",
      "Iteration No: 81 started. Searching for the next optimal point.\n",
      "Iteration No: 81 ended. Search finished for the next optimal point.\n",
      "Time taken: 4.6359\n",
      "Function value obtained: 0.2309\n",
      "Current minimum: 0.2309\n",
      "Iteration No: 82 started. Searching for the next optimal point.\n",
      "Iteration No: 82 ended. Search finished for the next optimal point.\n",
      "Time taken: 4.3724\n",
      "Function value obtained: 0.2309\n",
      "Current minimum: 0.2309\n",
      "Iteration No: 83 started. Searching for the next optimal point.\n",
      "Iteration No: 83 ended. Search finished for the next optimal point.\n",
      "Time taken: 4.5572\n",
      "Function value obtained: 0.2309\n",
      "Current minimum: 0.2309\n",
      "Iteration No: 84 started. Searching for the next optimal point.\n",
      "Iteration No: 84 ended. Search finished for the next optimal point.\n",
      "Time taken: 4.4319\n",
      "Function value obtained: 0.2309\n",
      "Current minimum: 0.2309\n",
      "Iteration No: 85 started. Searching for the next optimal point.\n",
      "Iteration No: 85 ended. Search finished for the next optimal point.\n",
      "Time taken: 4.4799\n",
      "Function value obtained: 0.2309\n",
      "Current minimum: 0.2309\n",
      "Iteration No: 86 started. Searching for the next optimal point.\n"
     ]
    },
    {
     "name": "stderr",
     "output_type": "stream",
     "text": [
      "The objective has been evaluated at this point before.\n"
     ]
    },
    {
     "name": "stdout",
     "output_type": "stream",
     "text": [
      "Iteration No: 86 ended. Search finished for the next optimal point.\n",
      "Time taken: 4.4163\n",
      "Function value obtained: 0.2309\n",
      "Current minimum: 0.2309\n",
      "Iteration No: 87 started. Searching for the next optimal point.\n",
      "Iteration No: 87 ended. Search finished for the next optimal point.\n",
      "Time taken: 4.4633\n",
      "Function value obtained: 0.2309\n",
      "Current minimum: 0.2309\n",
      "Iteration No: 88 started. Searching for the next optimal point.\n",
      "Iteration No: 88 ended. Search finished for the next optimal point.\n",
      "Time taken: 4.7939\n",
      "Function value obtained: 0.2309\n",
      "Current minimum: 0.2309\n",
      "Iteration No: 89 started. Searching for the next optimal point.\n",
      "Iteration No: 89 ended. Search finished for the next optimal point.\n",
      "Time taken: 4.6849\n",
      "Function value obtained: 0.2309\n",
      "Current minimum: 0.2309\n",
      "Iteration No: 90 started. Searching for the next optimal point.\n",
      "Iteration No: 90 ended. Search finished for the next optimal point.\n",
      "Time taken: 4.5652\n",
      "Function value obtained: 0.2309\n",
      "Current minimum: 0.2309\n",
      "Iteration No: 91 started. Searching for the next optimal point.\n"
     ]
    },
    {
     "name": "stderr",
     "output_type": "stream",
     "text": [
      "The objective has been evaluated at this point before.\n"
     ]
    },
    {
     "name": "stdout",
     "output_type": "stream",
     "text": [
      "Iteration No: 91 ended. Search finished for the next optimal point.\n",
      "Time taken: 4.9346\n",
      "Function value obtained: 0.2309\n",
      "Current minimum: 0.2309\n",
      "Iteration No: 92 started. Searching for the next optimal point.\n"
     ]
    },
    {
     "name": "stderr",
     "output_type": "stream",
     "text": [
      "The objective has been evaluated at this point before.\n"
     ]
    },
    {
     "name": "stdout",
     "output_type": "stream",
     "text": [
      "Iteration No: 92 ended. Search finished for the next optimal point.\n",
      "Time taken: 5.3319\n",
      "Function value obtained: 0.2309\n",
      "Current minimum: 0.2309\n",
      "Iteration No: 93 started. Searching for the next optimal point.\n",
      "Iteration No: 93 ended. Search finished for the next optimal point.\n",
      "Time taken: 5.0865\n",
      "Function value obtained: 0.2309\n",
      "Current minimum: 0.2309\n",
      "Iteration No: 94 started. Searching for the next optimal point.\n",
      "Iteration No: 94 ended. Search finished for the next optimal point.\n",
      "Time taken: 5.0511\n",
      "Function value obtained: 0.2309\n",
      "Current minimum: 0.2309\n",
      "Iteration No: 95 started. Searching for the next optimal point.\n",
      "Iteration No: 95 ended. Search finished for the next optimal point.\n",
      "Time taken: 5.0871\n",
      "Function value obtained: 0.2309\n",
      "Current minimum: 0.2309\n",
      "Iteration No: 96 started. Searching for the next optimal point.\n"
     ]
    },
    {
     "name": "stderr",
     "output_type": "stream",
     "text": [
      "The objective has been evaluated at this point before.\n"
     ]
    },
    {
     "name": "stdout",
     "output_type": "stream",
     "text": [
      "Iteration No: 96 ended. Search finished for the next optimal point.\n",
      "Time taken: 5.2105\n",
      "Function value obtained: 0.2309\n",
      "Current minimum: 0.2309\n",
      "Iteration No: 97 started. Searching for the next optimal point.\n"
     ]
    },
    {
     "name": "stderr",
     "output_type": "stream",
     "text": [
      "The objective has been evaluated at this point before.\n"
     ]
    },
    {
     "name": "stdout",
     "output_type": "stream",
     "text": [
      "Iteration No: 97 ended. Search finished for the next optimal point.\n",
      "Time taken: 5.4111\n",
      "Function value obtained: 0.2309\n",
      "Current minimum: 0.2309\n",
      "Iteration No: 98 started. Searching for the next optimal point.\n",
      "Iteration No: 98 ended. Search finished for the next optimal point.\n",
      "Time taken: 5.0427\n",
      "Function value obtained: 0.2309\n",
      "Current minimum: 0.2309\n",
      "Iteration No: 99 started. Searching for the next optimal point.\n"
     ]
    },
    {
     "name": "stderr",
     "output_type": "stream",
     "text": [
      "The objective has been evaluated at this point before.\n"
     ]
    },
    {
     "name": "stdout",
     "output_type": "stream",
     "text": [
      "Iteration No: 99 ended. Search finished for the next optimal point.\n",
      "Time taken: 5.0029\n",
      "Function value obtained: 0.2309\n",
      "Current minimum: 0.2309\n",
      "Iteration No: 100 started. Searching for the next optimal point.\n",
      "Iteration No: 100 ended. Search finished for the next optimal point.\n",
      "Time taken: 5.2830\n",
      "Function value obtained: 0.2309\n",
      "Current minimum: 0.2309\n",
      "best params:  OrderedDict([('pf__degree', 6), ('ridge__alpha', 0.00010414015289642496)])\n",
      "estimating accuracy...\n",
      "tuning hyperparameters for Random Forest...\n",
      "Iteration No: 1 started. Searching for the next optimal point.\n",
      "Iteration No: 1 ended. Search finished for the next optimal point.\n",
      "Time taken: 3.3033\n",
      "Function value obtained: 0.1495\n",
      "Current minimum: 0.1495\n",
      "Iteration No: 2 started. Searching for the next optimal point.\n",
      "Iteration No: 2 ended. Search finished for the next optimal point.\n",
      "Time taken: 3.3712\n",
      "Function value obtained: 0.1636\n",
      "Current minimum: 0.1495\n",
      "Iteration No: 3 started. Searching for the next optimal point.\n",
      "Iteration No: 3 ended. Search finished for the next optimal point.\n",
      "Time taken: 0.5591\n",
      "Function value obtained: 0.2287\n",
      "Current minimum: 0.1495\n",
      "Iteration No: 4 started. Searching for the next optimal point.\n",
      "Iteration No: 4 ended. Search finished for the next optimal point.\n",
      "Time taken: 1.9366\n",
      "Function value obtained: 0.3421\n",
      "Current minimum: 0.1495\n",
      "Iteration No: 5 started. Searching for the next optimal point.\n",
      "Iteration No: 5 ended. Search finished for the next optimal point.\n",
      "Time taken: 1.1656\n",
      "Function value obtained: 0.2025\n",
      "Current minimum: 0.1495\n",
      "Iteration No: 6 started. Searching for the next optimal point.\n",
      "Iteration No: 6 ended. Search finished for the next optimal point.\n",
      "Time taken: 4.1331\n",
      "Function value obtained: 0.1445\n",
      "Current minimum: 0.1445\n",
      "Iteration No: 7 started. Searching for the next optimal point.\n",
      "Iteration No: 7 ended. Search finished for the next optimal point.\n",
      "Time taken: 3.4663\n",
      "Function value obtained: 0.1476\n",
      "Current minimum: 0.1445\n",
      "Iteration No: 8 started. Searching for the next optimal point.\n",
      "Iteration No: 8 ended. Search finished for the next optimal point.\n",
      "Time taken: 2.6834\n",
      "Function value obtained: 0.1549\n",
      "Current minimum: 0.1445\n",
      "Iteration No: 9 started. Searching for the next optimal point.\n",
      "Iteration No: 9 ended. Search finished for the next optimal point.\n",
      "Time taken: 1.6624\n",
      "Function value obtained: 0.4474\n",
      "Current minimum: 0.1445\n",
      "Iteration No: 10 started. Searching for the next optimal point.\n",
      "Iteration No: 10 ended. Search finished for the next optimal point.\n",
      "Time taken: 3.0007\n",
      "Function value obtained: 0.1595\n",
      "Current minimum: 0.1445\n",
      "Iteration No: 11 started. Searching for the next optimal point.\n",
      "Iteration No: 11 ended. Search finished for the next optimal point.\n",
      "Time taken: 1.1748\n",
      "Function value obtained: 0.3666\n",
      "Current minimum: 0.1445\n",
      "Iteration No: 12 started. Searching for the next optimal point.\n",
      "Iteration No: 12 ended. Search finished for the next optimal point.\n",
      "Time taken: 5.0021\n",
      "Function value obtained: 0.1447\n",
      "Current minimum: 0.1445\n",
      "Iteration No: 13 started. Searching for the next optimal point.\n",
      "Iteration No: 13 ended. Search finished for the next optimal point.\n",
      "Time taken: 4.8966\n",
      "Function value obtained: 0.1445\n",
      "Current minimum: 0.1445\n",
      "Iteration No: 14 started. Searching for the next optimal point.\n",
      "Iteration No: 14 ended. Search finished for the next optimal point.\n",
      "Time taken: 4.3146\n",
      "Function value obtained: 0.1485\n",
      "Current minimum: 0.1445\n",
      "Iteration No: 15 started. Searching for the next optimal point.\n",
      "Iteration No: 15 ended. Search finished for the next optimal point.\n",
      "Time taken: 4.3436\n",
      "Function value obtained: 0.1480\n",
      "Current minimum: 0.1445\n",
      "Iteration No: 16 started. Searching for the next optimal point.\n",
      "Iteration No: 16 ended. Search finished for the next optimal point.\n",
      "Time taken: 4.9298\n",
      "Function value obtained: 0.1447\n",
      "Current minimum: 0.1445\n",
      "Iteration No: 17 started. Searching for the next optimal point.\n",
      "Iteration No: 17 ended. Search finished for the next optimal point.\n",
      "Time taken: 1.8484\n",
      "Function value obtained: 0.5926\n",
      "Current minimum: 0.1445\n",
      "Iteration No: 18 started. Searching for the next optimal point.\n",
      "Iteration No: 18 ended. Search finished for the next optimal point.\n",
      "Time taken: 4.9945\n",
      "Function value obtained: 0.1445\n",
      "Current minimum: 0.1445\n",
      "Iteration No: 19 started. Searching for the next optimal point.\n",
      "Iteration No: 19 ended. Search finished for the next optimal point.\n",
      "Time taken: 4.3586\n",
      "Function value obtained: 0.1478\n",
      "Current minimum: 0.1445\n",
      "Iteration No: 20 started. Searching for the next optimal point.\n",
      "Iteration No: 20 ended. Search finished for the next optimal point.\n",
      "Time taken: 4.1798\n",
      "Function value obtained: 0.1495\n",
      "Current minimum: 0.1445\n",
      "Iteration No: 21 started. Searching for the next optimal point.\n",
      "Iteration No: 21 ended. Search finished for the next optimal point.\n",
      "Time taken: 1.2795\n",
      "Function value obtained: 0.3661\n",
      "Current minimum: 0.1445\n",
      "Iteration No: 22 started. Searching for the next optimal point.\n",
      "Iteration No: 22 ended. Search finished for the next optimal point.\n",
      "Time taken: 4.0512\n",
      "Function value obtained: 0.1496\n",
      "Current minimum: 0.1445\n",
      "Iteration No: 23 started. Searching for the next optimal point.\n",
      "Iteration No: 23 ended. Search finished for the next optimal point.\n",
      "Time taken: 1.2893\n",
      "Function value obtained: 0.7497\n",
      "Current minimum: 0.1445\n",
      "Iteration No: 24 started. Searching for the next optimal point.\n",
      "Iteration No: 24 ended. Search finished for the next optimal point.\n",
      "Time taken: 4.0365\n",
      "Function value obtained: 0.1536\n",
      "Current minimum: 0.1445\n",
      "Iteration No: 25 started. Searching for the next optimal point.\n",
      "Iteration No: 25 ended. Search finished for the next optimal point.\n",
      "Time taken: 4.9767\n",
      "Function value obtained: 0.1454\n",
      "Current minimum: 0.1445\n",
      "Iteration No: 26 started. Searching for the next optimal point.\n",
      "Iteration No: 26 ended. Search finished for the next optimal point.\n",
      "Time taken: 3.0007\n",
      "Function value obtained: 0.1661\n",
      "Current minimum: 0.1445\n",
      "Iteration No: 27 started. Searching for the next optimal point.\n",
      "Iteration No: 27 ended. Search finished for the next optimal point.\n",
      "Time taken: 3.2273\n",
      "Function value obtained: 0.1721\n",
      "Current minimum: 0.1445\n",
      "Iteration No: 28 started. Searching for the next optimal point.\n",
      "Iteration No: 28 ended. Search finished for the next optimal point.\n",
      "Time taken: 4.5132\n",
      "Function value obtained: 0.1497\n",
      "Current minimum: 0.1445\n",
      "Iteration No: 29 started. Searching for the next optimal point.\n",
      "Iteration No: 29 ended. Search finished for the next optimal point.\n",
      "Time taken: 4.4449\n",
      "Function value obtained: 0.1487\n",
      "Current minimum: 0.1445\n",
      "Iteration No: 30 started. Searching for the next optimal point.\n",
      "Iteration No: 30 ended. Search finished for the next optimal point.\n",
      "Time taken: 5.0569\n",
      "Function value obtained: 0.1472\n",
      "Current minimum: 0.1445\n",
      "Iteration No: 31 started. Searching for the next optimal point.\n",
      "Iteration No: 31 ended. Search finished for the next optimal point.\n",
      "Time taken: 5.0097\n",
      "Function value obtained: 0.1451\n",
      "Current minimum: 0.1445\n",
      "Iteration No: 32 started. Searching for the next optimal point.\n",
      "Iteration No: 32 ended. Search finished for the next optimal point.\n",
      "Time taken: 5.3001\n",
      "Function value obtained: 0.1447\n",
      "Current minimum: 0.1445\n",
      "Iteration No: 33 started. Searching for the next optimal point.\n",
      "Iteration No: 33 ended. Search finished for the next optimal point.\n",
      "Time taken: 5.4412\n",
      "Function value obtained: 0.1442\n",
      "Current minimum: 0.1442\n",
      "Iteration No: 34 started. Searching for the next optimal point.\n",
      "Iteration No: 34 ended. Search finished for the next optimal point.\n",
      "Time taken: 5.0835\n",
      "Function value obtained: 0.1453\n",
      "Current minimum: 0.1442\n",
      "Iteration No: 35 started. Searching for the next optimal point.\n",
      "Iteration No: 35 ended. Search finished for the next optimal point.\n",
      "Time taken: 3.7945\n",
      "Function value obtained: 0.1592\n",
      "Current minimum: 0.1442\n",
      "Iteration No: 36 started. Searching for the next optimal point.\n",
      "Iteration No: 36 ended. Search finished for the next optimal point.\n",
      "Time taken: 5.1158\n",
      "Function value obtained: 0.1459\n",
      "Current minimum: 0.1442\n",
      "Iteration No: 37 started. Searching for the next optimal point.\n",
      "Iteration No: 37 ended. Search finished for the next optimal point.\n",
      "Time taken: 4.0550\n",
      "Function value obtained: 0.1537\n",
      "Current minimum: 0.1442\n",
      "Iteration No: 38 started. Searching for the next optimal point.\n",
      "Iteration No: 38 ended. Search finished for the next optimal point.\n",
      "Time taken: 5.5762\n",
      "Function value obtained: 0.1447\n",
      "Current minimum: 0.1442\n",
      "Iteration No: 39 started. Searching for the next optimal point.\n",
      "Iteration No: 39 ended. Search finished for the next optimal point.\n",
      "Time taken: 5.2120\n",
      "Function value obtained: 0.1452\n",
      "Current minimum: 0.1442\n",
      "Iteration No: 40 started. Searching for the next optimal point.\n",
      "Iteration No: 40 ended. Search finished for the next optimal point.\n",
      "Time taken: 5.1866\n",
      "Function value obtained: 0.1469\n",
      "Current minimum: 0.1442\n",
      "Iteration No: 41 started. Searching for the next optimal point.\n",
      "Iteration No: 41 ended. Search finished for the next optimal point.\n",
      "Time taken: 4.2619\n",
      "Function value obtained: 0.1547\n",
      "Current minimum: 0.1442\n",
      "Iteration No: 42 started. Searching for the next optimal point.\n",
      "Iteration No: 42 ended. Search finished for the next optimal point.\n",
      "Time taken: 5.9340\n",
      "Function value obtained: 0.1447\n",
      "Current minimum: 0.1442\n",
      "Iteration No: 43 started. Searching for the next optimal point.\n",
      "Iteration No: 43 ended. Search finished for the next optimal point.\n",
      "Time taken: 5.3735\n",
      "Function value obtained: 0.1449\n",
      "Current minimum: 0.1442\n",
      "Iteration No: 44 started. Searching for the next optimal point.\n",
      "Iteration No: 44 ended. Search finished for the next optimal point.\n",
      "Time taken: 1.5112\n",
      "Function value obtained: 0.5439\n",
      "Current minimum: 0.1442\n",
      "Iteration No: 45 started. Searching for the next optimal point.\n",
      "Iteration No: 45 ended. Search finished for the next optimal point.\n",
      "Time taken: 5.5317\n",
      "Function value obtained: 0.1450\n",
      "Current minimum: 0.1442\n",
      "Iteration No: 46 started. Searching for the next optimal point.\n",
      "Iteration No: 46 ended. Search finished for the next optimal point.\n",
      "Time taken: 4.1298\n",
      "Function value obtained: 0.1573\n",
      "Current minimum: 0.1442\n",
      "Iteration No: 47 started. Searching for the next optimal point.\n",
      "Iteration No: 47 ended. Search finished for the next optimal point.\n",
      "Time taken: 5.1067\n",
      "Function value obtained: 0.1533\n",
      "Current minimum: 0.1442\n",
      "Iteration No: 48 started. Searching for the next optimal point.\n",
      "Iteration No: 48 ended. Search finished for the next optimal point.\n",
      "Time taken: 5.7963\n",
      "Function value obtained: 0.1446\n",
      "Current minimum: 0.1442\n",
      "Iteration No: 49 started. Searching for the next optimal point.\n",
      "Iteration No: 49 ended. Search finished for the next optimal point.\n",
      "Time taken: 5.8931\n",
      "Function value obtained: 0.1444\n",
      "Current minimum: 0.1442\n",
      "Iteration No: 50 started. Searching for the next optimal point.\n",
      "Iteration No: 50 ended. Search finished for the next optimal point.\n",
      "Time taken: 4.7083\n",
      "Function value obtained: 0.1535\n",
      "Current minimum: 0.1442\n",
      "Iteration No: 51 started. Searching for the next optimal point.\n",
      "Iteration No: 51 ended. Search finished for the next optimal point.\n",
      "Time taken: 5.9832\n",
      "Function value obtained: 0.1447\n",
      "Current minimum: 0.1442\n",
      "Iteration No: 52 started. Searching for the next optimal point.\n",
      "Iteration No: 52 ended. Search finished for the next optimal point.\n",
      "Time taken: 5.2989\n",
      "Function value obtained: 0.1454\n",
      "Current minimum: 0.1442\n",
      "Iteration No: 53 started. Searching for the next optimal point.\n",
      "Iteration No: 53 ended. Search finished for the next optimal point.\n",
      "Time taken: 1.7490\n",
      "Function value obtained: 0.3666\n",
      "Current minimum: 0.1442\n",
      "Iteration No: 54 started. Searching for the next optimal point.\n",
      "Iteration No: 54 ended. Search finished for the next optimal point.\n",
      "Time taken: 5.1716\n",
      "Function value obtained: 0.1456\n",
      "Current minimum: 0.1442\n",
      "Iteration No: 55 started. Searching for the next optimal point.\n",
      "Iteration No: 55 ended. Search finished for the next optimal point.\n",
      "Time taken: 5.1442\n",
      "Function value obtained: 0.1453\n",
      "Current minimum: 0.1442\n",
      "Iteration No: 56 started. Searching for the next optimal point.\n",
      "Iteration No: 56 ended. Search finished for the next optimal point.\n",
      "Time taken: 5.3268\n",
      "Function value obtained: 0.1445\n",
      "Current minimum: 0.1442\n",
      "Iteration No: 57 started. Searching for the next optimal point.\n",
      "Iteration No: 57 ended. Search finished for the next optimal point.\n",
      "Time taken: 5.2053\n",
      "Function value obtained: 0.1441\n",
      "Current minimum: 0.1441\n",
      "Iteration No: 58 started. Searching for the next optimal point.\n",
      "Iteration No: 58 ended. Search finished for the next optimal point.\n",
      "Time taken: 5.0863\n",
      "Function value obtained: 0.1463\n",
      "Current minimum: 0.1441\n",
      "Iteration No: 59 started. Searching for the next optimal point.\n",
      "Iteration No: 59 ended. Search finished for the next optimal point.\n",
      "Time taken: 5.3514\n",
      "Function value obtained: 0.1448\n",
      "Current minimum: 0.1441\n",
      "Iteration No: 60 started. Searching for the next optimal point.\n",
      "Iteration No: 60 ended. Search finished for the next optimal point.\n",
      "Time taken: 5.5198\n",
      "Function value obtained: 0.1454\n",
      "Current minimum: 0.1441\n",
      "Iteration No: 61 started. Searching for the next optimal point.\n",
      "Iteration No: 61 ended. Search finished for the next optimal point.\n",
      "Time taken: 5.3401\n",
      "Function value obtained: 0.1444\n",
      "Current minimum: 0.1441\n",
      "Iteration No: 62 started. Searching for the next optimal point.\n",
      "Iteration No: 62 ended. Search finished for the next optimal point.\n",
      "Time taken: 5.5208\n",
      "Function value obtained: 0.1447\n",
      "Current minimum: 0.1441\n",
      "Iteration No: 63 started. Searching for the next optimal point.\n",
      "Iteration No: 63 ended. Search finished for the next optimal point.\n",
      "Time taken: 5.7271\n",
      "Function value obtained: 0.1447\n",
      "Current minimum: 0.1441\n",
      "Iteration No: 64 started. Searching for the next optimal point.\n",
      "Iteration No: 64 ended. Search finished for the next optimal point.\n",
      "Time taken: 5.7557\n",
      "Function value obtained: 0.1445\n",
      "Current minimum: 0.1441\n",
      "Iteration No: 65 started. Searching for the next optimal point.\n",
      "Iteration No: 65 ended. Search finished for the next optimal point.\n",
      "Time taken: 5.8731\n",
      "Function value obtained: 0.1446\n",
      "Current minimum: 0.1441\n",
      "Iteration No: 66 started. Searching for the next optimal point.\n",
      "Iteration No: 66 ended. Search finished for the next optimal point.\n",
      "Time taken: 5.8057\n",
      "Function value obtained: 0.1439\n",
      "Current minimum: 0.1439\n",
      "Iteration No: 67 started. Searching for the next optimal point.\n",
      "Iteration No: 67 ended. Search finished for the next optimal point.\n",
      "Time taken: 5.1256\n",
      "Function value obtained: 0.1489\n",
      "Current minimum: 0.1439\n",
      "Iteration No: 68 started. Searching for the next optimal point.\n",
      "Iteration No: 68 ended. Search finished for the next optimal point.\n",
      "Time taken: 3.8328\n",
      "Function value obtained: 0.1698\n",
      "Current minimum: 0.1439\n",
      "Iteration No: 69 started. Searching for the next optimal point.\n",
      "Iteration No: 69 ended. Search finished for the next optimal point.\n",
      "Time taken: 5.8534\n",
      "Function value obtained: 0.1447\n",
      "Current minimum: 0.1439\n",
      "Iteration No: 70 started. Searching for the next optimal point.\n",
      "Iteration No: 70 ended. Search finished for the next optimal point.\n",
      "Time taken: 5.7896\n",
      "Function value obtained: 0.1443\n",
      "Current minimum: 0.1439\n",
      "Iteration No: 71 started. Searching for the next optimal point.\n",
      "Iteration No: 71 ended. Search finished for the next optimal point.\n",
      "Time taken: 6.9713\n",
      "Function value obtained: 0.1444\n",
      "Current minimum: 0.1439\n",
      "Iteration No: 72 started. Searching for the next optimal point.\n",
      "Iteration No: 72 ended. Search finished for the next optimal point.\n",
      "Time taken: 6.3915\n",
      "Function value obtained: 0.1452\n",
      "Current minimum: 0.1439\n",
      "Iteration No: 73 started. Searching for the next optimal point.\n",
      "Iteration No: 73 ended. Search finished for the next optimal point.\n",
      "Time taken: 6.8333\n",
      "Function value obtained: 0.1447\n",
      "Current minimum: 0.1439\n",
      "Iteration No: 74 started. Searching for the next optimal point.\n",
      "Iteration No: 74 ended. Search finished for the next optimal point.\n",
      "Time taken: 6.1514\n",
      "Function value obtained: 0.1456\n",
      "Current minimum: 0.1439\n",
      "Iteration No: 75 started. Searching for the next optimal point.\n",
      "Iteration No: 75 ended. Search finished for the next optimal point.\n",
      "Time taken: 6.2247\n",
      "Function value obtained: 0.1442\n",
      "Current minimum: 0.1439\n",
      "Iteration No: 76 started. Searching for the next optimal point.\n",
      "Iteration No: 76 ended. Search finished for the next optimal point.\n",
      "Time taken: 6.7773\n",
      "Function value obtained: 0.1444\n",
      "Current minimum: 0.1439\n",
      "Iteration No: 77 started. Searching for the next optimal point.\n",
      "Iteration No: 77 ended. Search finished for the next optimal point.\n",
      "Time taken: 6.6806\n",
      "Function value obtained: 0.1444\n",
      "Current minimum: 0.1439\n",
      "Iteration No: 78 started. Searching for the next optimal point.\n",
      "Iteration No: 78 ended. Search finished for the next optimal point.\n",
      "Time taken: 7.1628\n",
      "Function value obtained: 0.1446\n",
      "Current minimum: 0.1439\n",
      "Iteration No: 79 started. Searching for the next optimal point.\n",
      "Iteration No: 79 ended. Search finished for the next optimal point.\n",
      "Time taken: 6.8758\n",
      "Function value obtained: 0.1448\n",
      "Current minimum: 0.1439\n",
      "Iteration No: 80 started. Searching for the next optimal point.\n",
      "Iteration No: 80 ended. Search finished for the next optimal point.\n",
      "Time taken: 6.9027\n",
      "Function value obtained: 0.1444\n",
      "Current minimum: 0.1439\n",
      "Iteration No: 81 started. Searching for the next optimal point.\n",
      "Iteration No: 81 ended. Search finished for the next optimal point.\n",
      "Time taken: 6.8235\n",
      "Function value obtained: 0.1442\n",
      "Current minimum: 0.1439\n",
      "Iteration No: 82 started. Searching for the next optimal point.\n",
      "Iteration No: 82 ended. Search finished for the next optimal point.\n",
      "Time taken: 5.1703\n",
      "Function value obtained: 0.1615\n",
      "Current minimum: 0.1439\n",
      "Iteration No: 83 started. Searching for the next optimal point.\n",
      "Iteration No: 83 ended. Search finished for the next optimal point.\n",
      "Time taken: 4.6069\n",
      "Function value obtained: 0.1711\n",
      "Current minimum: 0.1439\n",
      "Iteration No: 84 started. Searching for the next optimal point.\n",
      "Iteration No: 84 ended. Search finished for the next optimal point.\n",
      "Time taken: 7.0876\n",
      "Function value obtained: 0.1443\n",
      "Current minimum: 0.1439\n",
      "Iteration No: 85 started. Searching for the next optimal point.\n",
      "Iteration No: 85 ended. Search finished for the next optimal point.\n",
      "Time taken: 7.1158\n",
      "Function value obtained: 0.1443\n",
      "Current minimum: 0.1439\n",
      "Iteration No: 86 started. Searching for the next optimal point.\n",
      "Iteration No: 86 ended. Search finished for the next optimal point.\n",
      "Time taken: 7.0059\n",
      "Function value obtained: 0.1446\n",
      "Current minimum: 0.1439\n",
      "Iteration No: 87 started. Searching for the next optimal point.\n",
      "Iteration No: 87 ended. Search finished for the next optimal point.\n",
      "Time taken: 7.7129\n",
      "Function value obtained: 0.1447\n",
      "Current minimum: 0.1439\n",
      "Iteration No: 88 started. Searching for the next optimal point.\n",
      "Iteration No: 88 ended. Search finished for the next optimal point.\n",
      "Time taken: 7.2110\n",
      "Function value obtained: 0.1446\n",
      "Current minimum: 0.1439\n",
      "Iteration No: 89 started. Searching for the next optimal point.\n",
      "Iteration No: 89 ended. Search finished for the next optimal point.\n",
      "Time taken: 7.3513\n",
      "Function value obtained: 0.1444\n",
      "Current minimum: 0.1439\n",
      "Iteration No: 90 started. Searching for the next optimal point.\n",
      "Iteration No: 90 ended. Search finished for the next optimal point.\n",
      "Time taken: 7.1916\n",
      "Function value obtained: 0.1447\n",
      "Current minimum: 0.1439\n",
      "Iteration No: 91 started. Searching for the next optimal point.\n",
      "Iteration No: 91 ended. Search finished for the next optimal point.\n",
      "Time taken: 7.3950\n",
      "Function value obtained: 0.1443\n",
      "Current minimum: 0.1439\n",
      "Iteration No: 92 started. Searching for the next optimal point.\n",
      "Iteration No: 92 ended. Search finished for the next optimal point.\n",
      "Time taken: 7.5024\n",
      "Function value obtained: 0.1442\n",
      "Current minimum: 0.1439\n",
      "Iteration No: 93 started. Searching for the next optimal point.\n",
      "Iteration No: 93 ended. Search finished for the next optimal point.\n",
      "Time taken: 7.7499\n",
      "Function value obtained: 0.1447\n",
      "Current minimum: 0.1439\n",
      "Iteration No: 94 started. Searching for the next optimal point.\n",
      "Iteration No: 94 ended. Search finished for the next optimal point.\n",
      "Time taken: 7.4888\n",
      "Function value obtained: 0.1449\n",
      "Current minimum: 0.1439\n",
      "Iteration No: 95 started. Searching for the next optimal point.\n",
      "Iteration No: 95 ended. Search finished for the next optimal point.\n",
      "Time taken: 7.6101\n",
      "Function value obtained: 0.1443\n",
      "Current minimum: 0.1439\n",
      "Iteration No: 96 started. Searching for the next optimal point.\n",
      "Iteration No: 96 ended. Search finished for the next optimal point.\n",
      "Time taken: 8.6466\n",
      "Function value obtained: 0.1444\n",
      "Current minimum: 0.1439\n",
      "Iteration No: 97 started. Searching for the next optimal point.\n",
      "Iteration No: 97 ended. Search finished for the next optimal point.\n",
      "Time taken: 8.1361\n",
      "Function value obtained: 0.1444\n",
      "Current minimum: 0.1439\n",
      "Iteration No: 98 started. Searching for the next optimal point.\n"
     ]
    },
    {
     "name": "stderr",
     "output_type": "stream",
     "text": [
      "The objective has been evaluated at this point before.\n"
     ]
    },
    {
     "name": "stdout",
     "output_type": "stream",
     "text": [
      "Iteration No: 98 ended. Search finished for the next optimal point.\n",
      "Time taken: 7.7922\n",
      "Function value obtained: 0.1442\n",
      "Current minimum: 0.1439\n",
      "Iteration No: 99 started. Searching for the next optimal point.\n",
      "Iteration No: 99 ended. Search finished for the next optimal point.\n",
      "Time taken: 7.7650\n",
      "Function value obtained: 0.1445\n",
      "Current minimum: 0.1439\n",
      "Iteration No: 100 started. Searching for the next optimal point.\n",
      "Iteration No: 100 ended. Search finished for the next optimal point.\n",
      "Time taken: 8.0981\n",
      "Function value obtained: 0.1442\n",
      "Current minimum: 0.1439\n",
      "best params:  OrderedDict([('max_depth', 44), ('max_samples', 0.9511258849012185)])\n",
      "estimating accuracy...\n",
      "tuning hyperparameters for AdaBoost...\n",
      "Iteration No: 1 started. Searching for the next optimal point.\n",
      "Iteration No: 1 ended. Search finished for the next optimal point.\n",
      "Time taken: 6.0377\n",
      "Function value obtained: 0.1409\n",
      "Current minimum: 0.1409\n",
      "Iteration No: 2 started. Searching for the next optimal point.\n",
      "Iteration No: 2 ended. Search finished for the next optimal point.\n",
      "Time taken: 5.0297\n",
      "Function value obtained: 0.1582\n",
      "Current minimum: 0.1409\n",
      "Iteration No: 3 started. Searching for the next optimal point.\n",
      "Iteration No: 3 ended. Search finished for the next optimal point.\n",
      "Time taken: 6.0514\n",
      "Function value obtained: 0.1409\n",
      "Current minimum: 0.1409\n",
      "Iteration No: 4 started. Searching for the next optimal point.\n",
      "Iteration No: 4 ended. Search finished for the next optimal point.\n",
      "Time taken: 3.2018\n",
      "Function value obtained: 0.2728\n",
      "Current minimum: 0.1409\n",
      "Iteration No: 5 started. Searching for the next optimal point.\n",
      "Iteration No: 5 ended. Search finished for the next optimal point.\n",
      "Time taken: 4.4165\n",
      "Function value obtained: 0.1785\n",
      "Current minimum: 0.1409\n",
      "Iteration No: 6 started. Searching for the next optimal point.\n",
      "Iteration No: 6 ended. Search finished for the next optimal point.\n",
      "Time taken: 5.9846\n",
      "Function value obtained: 0.1413\n",
      "Current minimum: 0.1409\n",
      "Iteration No: 7 started. Searching for the next optimal point.\n",
      "Iteration No: 7 ended. Search finished for the next optimal point.\n",
      "Time taken: 6.0358\n",
      "Function value obtained: 0.1413\n",
      "Current minimum: 0.1409\n",
      "Iteration No: 8 started. Searching for the next optimal point.\n",
      "Iteration No: 8 ended. Search finished for the next optimal point.\n",
      "Time taken: 6.1753\n",
      "Function value obtained: 0.1413\n",
      "Current minimum: 0.1409\n",
      "Iteration No: 9 started. Searching for the next optimal point.\n",
      "Iteration No: 9 ended. Search finished for the next optimal point.\n",
      "Time taken: 2.6594\n",
      "Function value obtained: 0.3925\n",
      "Current minimum: 0.1409\n",
      "Iteration No: 10 started. Searching for the next optimal point.\n",
      "Iteration No: 10 ended. Search finished for the next optimal point.\n",
      "Time taken: 6.4237\n",
      "Function value obtained: 0.1413\n",
      "Current minimum: 0.1409\n",
      "Iteration No: 11 started. Searching for the next optimal point.\n",
      "Iteration No: 11 ended. Search finished for the next optimal point.\n",
      "Time taken: 7.1718\n",
      "Function value obtained: 0.1413\n",
      "Current minimum: 0.1409\n",
      "Iteration No: 12 started. Searching for the next optimal point.\n",
      "Iteration No: 12 ended. Search finished for the next optimal point.\n",
      "Time taken: 7.0191\n",
      "Function value obtained: 0.1406\n",
      "Current minimum: 0.1406\n",
      "Iteration No: 13 started. Searching for the next optimal point.\n",
      "Iteration No: 13 ended. Search finished for the next optimal point.\n",
      "Time taken: 6.8561\n",
      "Function value obtained: 0.1406\n",
      "Current minimum: 0.1406\n",
      "Iteration No: 14 started. Searching for the next optimal point.\n",
      "Iteration No: 14 ended. Search finished for the next optimal point.\n",
      "Time taken: 7.2934\n",
      "Function value obtained: 0.1413\n",
      "Current minimum: 0.1406\n",
      "Iteration No: 15 started. Searching for the next optimal point.\n",
      "Iteration No: 15 ended. Search finished for the next optimal point.\n",
      "Time taken: 7.2070\n",
      "Function value obtained: 0.1413\n",
      "Current minimum: 0.1406\n",
      "Iteration No: 16 started. Searching for the next optimal point.\n",
      "Iteration No: 16 ended. Search finished for the next optimal point.\n",
      "Time taken: 7.3216\n",
      "Function value obtained: 0.1410\n",
      "Current minimum: 0.1406\n",
      "Iteration No: 17 started. Searching for the next optimal point.\n",
      "Iteration No: 17 ended. Search finished for the next optimal point.\n",
      "Time taken: 7.2960\n",
      "Function value obtained: 0.1408\n",
      "Current minimum: 0.1406\n",
      "Iteration No: 18 started. Searching for the next optimal point.\n",
      "Iteration No: 18 ended. Search finished for the next optimal point.\n",
      "Time taken: 6.7157\n",
      "Function value obtained: 0.1448\n",
      "Current minimum: 0.1406\n",
      "Iteration No: 19 started. Searching for the next optimal point.\n",
      "Iteration No: 19 ended. Search finished for the next optimal point.\n",
      "Time taken: 7.2731\n",
      "Function value obtained: 0.1413\n",
      "Current minimum: 0.1406\n",
      "Iteration No: 20 started. Searching for the next optimal point.\n",
      "Iteration No: 20 ended. Search finished for the next optimal point.\n",
      "Time taken: 7.4572\n",
      "Function value obtained: 0.1408\n",
      "Current minimum: 0.1406\n",
      "Iteration No: 21 started. Searching for the next optimal point.\n",
      "Iteration No: 21 ended. Search finished for the next optimal point.\n",
      "Time taken: 7.3136\n",
      "Function value obtained: 0.1415\n",
      "Current minimum: 0.1406\n",
      "Iteration No: 22 started. Searching for the next optimal point.\n",
      "Iteration No: 22 ended. Search finished for the next optimal point.\n",
      "Time taken: 7.2150\n",
      "Function value obtained: 0.1413\n",
      "Current minimum: 0.1406\n",
      "Iteration No: 23 started. Searching for the next optimal point.\n",
      "Iteration No: 23 ended. Search finished for the next optimal point.\n",
      "Time taken: 7.0742\n",
      "Function value obtained: 0.1406\n",
      "Current minimum: 0.1406\n",
      "Iteration No: 24 started. Searching for the next optimal point.\n",
      "Iteration No: 24 ended. Search finished for the next optimal point.\n",
      "Time taken: 7.2305\n",
      "Function value obtained: 0.1405\n",
      "Current minimum: 0.1405\n",
      "Iteration No: 25 started. Searching for the next optimal point.\n",
      "Iteration No: 25 ended. Search finished for the next optimal point.\n",
      "Time taken: 1.8325\n",
      "Function value obtained: 0.7463\n",
      "Current minimum: 0.1405\n",
      "Iteration No: 26 started. Searching for the next optimal point.\n",
      "Iteration No: 26 ended. Search finished for the next optimal point.\n",
      "Time taken: 6.9987\n",
      "Function value obtained: 0.1413\n",
      "Current minimum: 0.1405\n",
      "Iteration No: 27 started. Searching for the next optimal point.\n",
      "Iteration No: 27 ended. Search finished for the next optimal point.\n",
      "Time taken: 7.0374\n",
      "Function value obtained: 0.1413\n",
      "Current minimum: 0.1405\n",
      "Iteration No: 28 started. Searching for the next optimal point.\n",
      "Iteration No: 28 ended. Search finished for the next optimal point.\n",
      "Time taken: 7.1205\n",
      "Function value obtained: 0.1412\n",
      "Current minimum: 0.1405\n",
      "Iteration No: 29 started. Searching for the next optimal point.\n",
      "Iteration No: 29 ended. Search finished for the next optimal point.\n",
      "Time taken: 7.6090\n",
      "Function value obtained: 0.1402\n",
      "Current minimum: 0.1402\n",
      "Iteration No: 30 started. Searching for the next optimal point.\n",
      "Iteration No: 30 ended. Search finished for the next optimal point.\n",
      "Time taken: 7.1819\n",
      "Function value obtained: 0.1405\n",
      "Current minimum: 0.1402\n",
      "Iteration No: 31 started. Searching for the next optimal point.\n",
      "Iteration No: 31 ended. Search finished for the next optimal point.\n",
      "Time taken: 6.4752\n",
      "Function value obtained: 0.1462\n",
      "Current minimum: 0.1402\n",
      "Iteration No: 32 started. Searching for the next optimal point.\n",
      "Iteration No: 32 ended. Search finished for the next optimal point.\n",
      "Time taken: 7.0169\n",
      "Function value obtained: 0.1412\n",
      "Current minimum: 0.1402\n",
      "Iteration No: 33 started. Searching for the next optimal point.\n",
      "Iteration No: 33 ended. Search finished for the next optimal point.\n",
      "Time taken: 7.1512\n",
      "Function value obtained: 0.1405\n",
      "Current minimum: 0.1402\n",
      "Iteration No: 34 started. Searching for the next optimal point.\n"
     ]
    },
    {
     "name": "stderr",
     "output_type": "stream",
     "text": [
      "The objective has been evaluated at this point before.\n"
     ]
    },
    {
     "name": "stdout",
     "output_type": "stream",
     "text": [
      "Iteration No: 34 ended. Search finished for the next optimal point.\n",
      "Time taken: 7.2871\n",
      "Function value obtained: 0.1402\n",
      "Current minimum: 0.1402\n",
      "Iteration No: 35 started. Searching for the next optimal point.\n",
      "Iteration No: 35 ended. Search finished for the next optimal point.\n",
      "Time taken: 7.2754\n",
      "Function value obtained: 0.1404\n",
      "Current minimum: 0.1402\n",
      "Iteration No: 36 started. Searching for the next optimal point.\n"
     ]
    },
    {
     "name": "stderr",
     "output_type": "stream",
     "text": [
      "The objective has been evaluated at this point before.\n"
     ]
    },
    {
     "name": "stdout",
     "output_type": "stream",
     "text": [
      "Iteration No: 36 ended. Search finished for the next optimal point.\n",
      "Time taken: 7.1616\n",
      "Function value obtained: 0.1402\n",
      "Current minimum: 0.1402\n",
      "Iteration No: 37 started. Searching for the next optimal point.\n"
     ]
    },
    {
     "name": "stderr",
     "output_type": "stream",
     "text": [
      "The objective has been evaluated at this point before.\n"
     ]
    },
    {
     "name": "stdout",
     "output_type": "stream",
     "text": [
      "Iteration No: 37 ended. Search finished for the next optimal point.\n",
      "Time taken: 7.1322\n",
      "Function value obtained: 0.1406\n",
      "Current minimum: 0.1402\n",
      "Iteration No: 38 started. Searching for the next optimal point.\n",
      "Iteration No: 38 ended. Search finished for the next optimal point.\n",
      "Time taken: 7.2449\n",
      "Function value obtained: 0.1404\n",
      "Current minimum: 0.1402\n",
      "Iteration No: 39 started. Searching for the next optimal point.\n"
     ]
    },
    {
     "name": "stderr",
     "output_type": "stream",
     "text": [
      "The objective has been evaluated at this point before.\n"
     ]
    },
    {
     "name": "stdout",
     "output_type": "stream",
     "text": [
      "Iteration No: 39 ended. Search finished for the next optimal point.\n",
      "Time taken: 7.4589\n",
      "Function value obtained: 0.1402\n",
      "Current minimum: 0.1402\n",
      "Iteration No: 40 started. Searching for the next optimal point.\n"
     ]
    },
    {
     "name": "stderr",
     "output_type": "stream",
     "text": [
      "The objective has been evaluated at this point before.\n"
     ]
    },
    {
     "name": "stdout",
     "output_type": "stream",
     "text": [
      "Iteration No: 40 ended. Search finished for the next optimal point.\n",
      "Time taken: 7.2649\n",
      "Function value obtained: 0.1402\n",
      "Current minimum: 0.1402\n",
      "Iteration No: 41 started. Searching for the next optimal point.\n"
     ]
    },
    {
     "name": "stderr",
     "output_type": "stream",
     "text": [
      "The objective has been evaluated at this point before.\n"
     ]
    },
    {
     "name": "stdout",
     "output_type": "stream",
     "text": [
      "Iteration No: 41 ended. Search finished for the next optimal point.\n",
      "Time taken: 7.4568\n",
      "Function value obtained: 0.1406\n",
      "Current minimum: 0.1402\n",
      "Iteration No: 42 started. Searching for the next optimal point.\n",
      "Iteration No: 42 ended. Search finished for the next optimal point.\n",
      "Time taken: 7.5197\n",
      "Function value obtained: 0.1413\n",
      "Current minimum: 0.1402\n",
      "Iteration No: 43 started. Searching for the next optimal point.\n",
      "Iteration No: 43 ended. Search finished for the next optimal point.\n",
      "Time taken: 7.4310\n",
      "Function value obtained: 0.1413\n",
      "Current minimum: 0.1402\n",
      "Iteration No: 44 started. Searching for the next optimal point.\n"
     ]
    },
    {
     "name": "stderr",
     "output_type": "stream",
     "text": [
      "The objective has been evaluated at this point before.\n"
     ]
    },
    {
     "name": "stdout",
     "output_type": "stream",
     "text": [
      "Iteration No: 44 ended. Search finished for the next optimal point.\n",
      "Time taken: 7.3876\n",
      "Function value obtained: 0.1402\n",
      "Current minimum: 0.1402\n",
      "Iteration No: 45 started. Searching for the next optimal point.\n",
      "Iteration No: 45 ended. Search finished for the next optimal point.\n",
      "Time taken: 7.4218\n",
      "Function value obtained: 0.1413\n",
      "Current minimum: 0.1402\n",
      "Iteration No: 46 started. Searching for the next optimal point.\n"
     ]
    },
    {
     "name": "stderr",
     "output_type": "stream",
     "text": [
      "The objective has been evaluated at this point before.\n"
     ]
    },
    {
     "name": "stdout",
     "output_type": "stream",
     "text": [
      "Iteration No: 46 ended. Search finished for the next optimal point.\n",
      "Time taken: 7.5550\n",
      "Function value obtained: 0.1402\n",
      "Current minimum: 0.1402\n",
      "Iteration No: 47 started. Searching for the next optimal point.\n"
     ]
    },
    {
     "name": "stderr",
     "output_type": "stream",
     "text": [
      "The objective has been evaluated at this point before.\n"
     ]
    },
    {
     "name": "stdout",
     "output_type": "stream",
     "text": [
      "Iteration No: 47 ended. Search finished for the next optimal point.\n",
      "Time taken: 7.4782\n",
      "Function value obtained: 0.1402\n",
      "Current minimum: 0.1402\n",
      "Iteration No: 48 started. Searching for the next optimal point.\n"
     ]
    },
    {
     "name": "stderr",
     "output_type": "stream",
     "text": [
      "The objective has been evaluated at this point before.\n"
     ]
    },
    {
     "name": "stdout",
     "output_type": "stream",
     "text": [
      "Iteration No: 48 ended. Search finished for the next optimal point.\n",
      "Time taken: 7.7662\n",
      "Function value obtained: 0.1402\n",
      "Current minimum: 0.1402\n",
      "Iteration No: 49 started. Searching for the next optimal point.\n"
     ]
    },
    {
     "name": "stderr",
     "output_type": "stream",
     "text": [
      "The objective has been evaluated at this point before.\n"
     ]
    },
    {
     "name": "stdout",
     "output_type": "stream",
     "text": [
      "Iteration No: 49 ended. Search finished for the next optimal point.\n",
      "Time taken: 7.6659\n",
      "Function value obtained: 0.1402\n",
      "Current minimum: 0.1402\n",
      "Iteration No: 50 started. Searching for the next optimal point.\n"
     ]
    },
    {
     "name": "stderr",
     "output_type": "stream",
     "text": [
      "The objective has been evaluated at this point before.\n"
     ]
    },
    {
     "name": "stdout",
     "output_type": "stream",
     "text": [
      "Iteration No: 50 ended. Search finished for the next optimal point.\n",
      "Time taken: 7.3674\n",
      "Function value obtained: 0.1402\n",
      "Current minimum: 0.1402\n",
      "Iteration No: 51 started. Searching for the next optimal point.\n",
      "Iteration No: 51 ended. Search finished for the next optimal point.\n",
      "Time taken: 7.4493\n",
      "Function value obtained: 0.1413\n",
      "Current minimum: 0.1402\n",
      "Iteration No: 52 started. Searching for the next optimal point.\n"
     ]
    },
    {
     "name": "stderr",
     "output_type": "stream",
     "text": [
      "The objective has been evaluated at this point before.\n"
     ]
    },
    {
     "name": "stdout",
     "output_type": "stream",
     "text": [
      "Iteration No: 52 ended. Search finished for the next optimal point.\n",
      "Time taken: 7.4471\n",
      "Function value obtained: 0.1402\n",
      "Current minimum: 0.1402\n",
      "Iteration No: 53 started. Searching for the next optimal point.\n",
      "Iteration No: 53 ended. Search finished for the next optimal point.\n",
      "Time taken: 7.6787\n",
      "Function value obtained: 0.1405\n",
      "Current minimum: 0.1402\n",
      "Iteration No: 54 started. Searching for the next optimal point.\n",
      "Iteration No: 54 ended. Search finished for the next optimal point.\n",
      "Time taken: 7.8936\n",
      "Function value obtained: 0.1422\n",
      "Current minimum: 0.1402\n",
      "Iteration No: 55 started. Searching for the next optimal point.\n"
     ]
    },
    {
     "name": "stderr",
     "output_type": "stream",
     "text": [
      "The objective has been evaluated at this point before.\n"
     ]
    },
    {
     "name": "stdout",
     "output_type": "stream",
     "text": [
      "Iteration No: 55 ended. Search finished for the next optimal point.\n",
      "Time taken: 7.7190\n",
      "Function value obtained: 0.1402\n",
      "Current minimum: 0.1402\n",
      "Iteration No: 56 started. Searching for the next optimal point.\n"
     ]
    },
    {
     "name": "stderr",
     "output_type": "stream",
     "text": [
      "The objective has been evaluated at this point before.\n"
     ]
    },
    {
     "name": "stdout",
     "output_type": "stream",
     "text": [
      "Iteration No: 56 ended. Search finished for the next optimal point.\n",
      "Time taken: 7.7888\n",
      "Function value obtained: 0.1402\n",
      "Current minimum: 0.1402\n",
      "Iteration No: 57 started. Searching for the next optimal point.\n"
     ]
    },
    {
     "name": "stderr",
     "output_type": "stream",
     "text": [
      "The objective has been evaluated at this point before.\n"
     ]
    },
    {
     "name": "stdout",
     "output_type": "stream",
     "text": [
      "Iteration No: 57 ended. Search finished for the next optimal point.\n",
      "Time taken: 7.9336\n",
      "Function value obtained: 0.1402\n",
      "Current minimum: 0.1402\n",
      "Iteration No: 58 started. Searching for the next optimal point.\n",
      "Iteration No: 58 ended. Search finished for the next optimal point.\n",
      "Time taken: 3.9289\n",
      "Function value obtained: 0.6027\n",
      "Current minimum: 0.1402\n",
      "Iteration No: 59 started. Searching for the next optimal point.\n"
     ]
    },
    {
     "name": "stderr",
     "output_type": "stream",
     "text": [
      "The objective has been evaluated at this point before.\n"
     ]
    },
    {
     "name": "stdout",
     "output_type": "stream",
     "text": [
      "Iteration No: 59 ended. Search finished for the next optimal point.\n",
      "Time taken: 8.0667\n",
      "Function value obtained: 0.1408\n",
      "Current minimum: 0.1402\n",
      "Iteration No: 60 started. Searching for the next optimal point.\n"
     ]
    },
    {
     "name": "stderr",
     "output_type": "stream",
     "text": [
      "The objective has been evaluated at this point before.\n"
     ]
    },
    {
     "name": "stdout",
     "output_type": "stream",
     "text": [
      "Iteration No: 60 ended. Search finished for the next optimal point.\n",
      "Time taken: 7.8836\n",
      "Function value obtained: 0.1402\n",
      "Current minimum: 0.1402\n",
      "Iteration No: 61 started. Searching for the next optimal point.\n"
     ]
    },
    {
     "name": "stderr",
     "output_type": "stream",
     "text": [
      "The objective has been evaluated at this point before.\n"
     ]
    },
    {
     "name": "stdout",
     "output_type": "stream",
     "text": [
      "Iteration No: 61 ended. Search finished for the next optimal point.\n",
      "Time taken: 7.7421\n",
      "Function value obtained: 0.1402\n",
      "Current minimum: 0.1402\n",
      "Iteration No: 62 started. Searching for the next optimal point.\n"
     ]
    },
    {
     "name": "stderr",
     "output_type": "stream",
     "text": [
      "The objective has been evaluated at this point before.\n"
     ]
    },
    {
     "name": "stdout",
     "output_type": "stream",
     "text": [
      "Iteration No: 62 ended. Search finished for the next optimal point.\n",
      "Time taken: 8.2007\n",
      "Function value obtained: 0.1413\n",
      "Current minimum: 0.1402\n",
      "Iteration No: 63 started. Searching for the next optimal point.\n"
     ]
    },
    {
     "name": "stderr",
     "output_type": "stream",
     "text": [
      "The objective has been evaluated at this point before.\n"
     ]
    },
    {
     "name": "stdout",
     "output_type": "stream",
     "text": [
      "Iteration No: 63 ended. Search finished for the next optimal point.\n",
      "Time taken: 7.9397\n",
      "Function value obtained: 0.1413\n",
      "Current minimum: 0.1402\n",
      "Iteration No: 64 started. Searching for the next optimal point.\n"
     ]
    },
    {
     "name": "stderr",
     "output_type": "stream",
     "text": [
      "The objective has been evaluated at this point before.\n"
     ]
    },
    {
     "name": "stdout",
     "output_type": "stream",
     "text": [
      "Iteration No: 64 ended. Search finished for the next optimal point.\n",
      "Time taken: 7.9117\n",
      "Function value obtained: 0.1413\n",
      "Current minimum: 0.1402\n",
      "Iteration No: 65 started. Searching for the next optimal point.\n",
      "Iteration No: 65 ended. Search finished for the next optimal point.\n",
      "Time taken: 5.5783\n",
      "Function value obtained: 0.2152\n",
      "Current minimum: 0.1402\n",
      "Iteration No: 66 started. Searching for the next optimal point.\n"
     ]
    },
    {
     "name": "stderr",
     "output_type": "stream",
     "text": [
      "The objective has been evaluated at this point before.\n"
     ]
    },
    {
     "name": "stdout",
     "output_type": "stream",
     "text": [
      "Iteration No: 66 ended. Search finished for the next optimal point.\n",
      "Time taken: 7.9262\n",
      "Function value obtained: 0.1405\n",
      "Current minimum: 0.1402\n",
      "Iteration No: 67 started. Searching for the next optimal point.\n"
     ]
    },
    {
     "name": "stderr",
     "output_type": "stream",
     "text": [
      "The objective has been evaluated at this point before.\n"
     ]
    },
    {
     "name": "stdout",
     "output_type": "stream",
     "text": [
      "Iteration No: 67 ended. Search finished for the next optimal point.\n",
      "Time taken: 8.0363\n",
      "Function value obtained: 0.1404\n",
      "Current minimum: 0.1402\n",
      "Iteration No: 68 started. Searching for the next optimal point.\n"
     ]
    },
    {
     "name": "stderr",
     "output_type": "stream",
     "text": [
      "The objective has been evaluated at this point before.\n"
     ]
    },
    {
     "name": "stdout",
     "output_type": "stream",
     "text": [
      "Iteration No: 68 ended. Search finished for the next optimal point.\n",
      "Time taken: 8.2829\n",
      "Function value obtained: 0.1402\n",
      "Current minimum: 0.1402\n",
      "Iteration No: 69 started. Searching for the next optimal point.\n"
     ]
    },
    {
     "name": "stderr",
     "output_type": "stream",
     "text": [
      "The objective has been evaluated at this point before.\n"
     ]
    },
    {
     "name": "stdout",
     "output_type": "stream",
     "text": [
      "Iteration No: 69 ended. Search finished for the next optimal point.\n",
      "Time taken: 8.3213\n",
      "Function value obtained: 0.1402\n",
      "Current minimum: 0.1402\n",
      "Iteration No: 70 started. Searching for the next optimal point.\n",
      "Iteration No: 70 ended. Search finished for the next optimal point.\n",
      "Time taken: 7.5348\n",
      "Function value obtained: 0.1525\n",
      "Current minimum: 0.1402\n",
      "Iteration No: 71 started. Searching for the next optimal point.\n"
     ]
    },
    {
     "name": "stderr",
     "output_type": "stream",
     "text": [
      "The objective has been evaluated at this point before.\n"
     ]
    },
    {
     "name": "stdout",
     "output_type": "stream",
     "text": [
      "Iteration No: 71 ended. Search finished for the next optimal point.\n",
      "Time taken: 8.1142\n",
      "Function value obtained: 0.1408\n",
      "Current minimum: 0.1402\n",
      "Iteration No: 72 started. Searching for the next optimal point.\n"
     ]
    },
    {
     "name": "stderr",
     "output_type": "stream",
     "text": [
      "The objective has been evaluated at this point before.\n"
     ]
    },
    {
     "name": "stdout",
     "output_type": "stream",
     "text": [
      "Iteration No: 72 ended. Search finished for the next optimal point.\n",
      "Time taken: 8.2036\n",
      "Function value obtained: 0.1405\n",
      "Current minimum: 0.1402\n",
      "Iteration No: 73 started. Searching for the next optimal point.\n"
     ]
    },
    {
     "name": "stderr",
     "output_type": "stream",
     "text": [
      "The objective has been evaluated at this point before.\n"
     ]
    },
    {
     "name": "stdout",
     "output_type": "stream",
     "text": [
      "Iteration No: 73 ended. Search finished for the next optimal point.\n",
      "Time taken: 8.2511\n",
      "Function value obtained: 0.1402\n",
      "Current minimum: 0.1402\n",
      "Iteration No: 74 started. Searching for the next optimal point.\n"
     ]
    },
    {
     "name": "stderr",
     "output_type": "stream",
     "text": [
      "The objective has been evaluated at this point before.\n"
     ]
    },
    {
     "name": "stdout",
     "output_type": "stream",
     "text": [
      "Iteration No: 74 ended. Search finished for the next optimal point.\n",
      "Time taken: 8.4515\n",
      "Function value obtained: 0.1405\n",
      "Current minimum: 0.1402\n",
      "Iteration No: 75 started. Searching for the next optimal point.\n"
     ]
    },
    {
     "name": "stderr",
     "output_type": "stream",
     "text": [
      "The objective has been evaluated at this point before.\n"
     ]
    },
    {
     "name": "stdout",
     "output_type": "stream",
     "text": [
      "Iteration No: 75 ended. Search finished for the next optimal point.\n",
      "Time taken: 8.6753\n",
      "Function value obtained: 0.1409\n",
      "Current minimum: 0.1402\n",
      "Iteration No: 76 started. Searching for the next optimal point.\n"
     ]
    },
    {
     "name": "stderr",
     "output_type": "stream",
     "text": [
      "The objective has been evaluated at this point before.\n"
     ]
    },
    {
     "name": "stdout",
     "output_type": "stream",
     "text": [
      "Iteration No: 76 ended. Search finished for the next optimal point.\n",
      "Time taken: 8.1500\n",
      "Function value obtained: 0.1402\n",
      "Current minimum: 0.1402\n",
      "Iteration No: 77 started. Searching for the next optimal point.\n"
     ]
    },
    {
     "name": "stderr",
     "output_type": "stream",
     "text": [
      "The objective has been evaluated at this point before.\n"
     ]
    },
    {
     "name": "stdout",
     "output_type": "stream",
     "text": [
      "Iteration No: 77 ended. Search finished for the next optimal point.\n",
      "Time taken: 8.1628\n",
      "Function value obtained: 0.1402\n",
      "Current minimum: 0.1402\n",
      "Iteration No: 78 started. Searching for the next optimal point.\n"
     ]
    },
    {
     "name": "stderr",
     "output_type": "stream",
     "text": [
      "The objective has been evaluated at this point before.\n"
     ]
    },
    {
     "name": "stdout",
     "output_type": "stream",
     "text": [
      "Iteration No: 78 ended. Search finished for the next optimal point.\n",
      "Time taken: 8.2857\n",
      "Function value obtained: 0.1402\n",
      "Current minimum: 0.1402\n",
      "Iteration No: 79 started. Searching for the next optimal point.\n"
     ]
    },
    {
     "name": "stderr",
     "output_type": "stream",
     "text": [
      "The objective has been evaluated at this point before.\n"
     ]
    },
    {
     "name": "stdout",
     "output_type": "stream",
     "text": [
      "Iteration No: 79 ended. Search finished for the next optimal point.\n",
      "Time taken: 8.3697\n",
      "Function value obtained: 0.1402\n",
      "Current minimum: 0.1402\n",
      "Iteration No: 80 started. Searching for the next optimal point.\n"
     ]
    },
    {
     "name": "stderr",
     "output_type": "stream",
     "text": [
      "The objective has been evaluated at this point before.\n"
     ]
    },
    {
     "name": "stdout",
     "output_type": "stream",
     "text": [
      "Iteration No: 80 ended. Search finished for the next optimal point.\n",
      "Time taken: 8.3290\n",
      "Function value obtained: 0.1402\n",
      "Current minimum: 0.1402\n",
      "Iteration No: 81 started. Searching for the next optimal point.\n"
     ]
    },
    {
     "name": "stderr",
     "output_type": "stream",
     "text": [
      "The objective has been evaluated at this point before.\n"
     ]
    },
    {
     "name": "stdout",
     "output_type": "stream",
     "text": [
      "Iteration No: 81 ended. Search finished for the next optimal point.\n",
      "Time taken: 8.3840\n",
      "Function value obtained: 0.1402\n",
      "Current minimum: 0.1402\n",
      "Iteration No: 82 started. Searching for the next optimal point.\n"
     ]
    },
    {
     "name": "stderr",
     "output_type": "stream",
     "text": [
      "The objective has been evaluated at this point before.\n"
     ]
    },
    {
     "name": "stdout",
     "output_type": "stream",
     "text": [
      "Iteration No: 82 ended. Search finished for the next optimal point.\n",
      "Time taken: 8.4348\n",
      "Function value obtained: 0.1405\n",
      "Current minimum: 0.1402\n",
      "Iteration No: 83 started. Searching for the next optimal point.\n"
     ]
    },
    {
     "name": "stderr",
     "output_type": "stream",
     "text": [
      "The objective has been evaluated at this point before.\n"
     ]
    },
    {
     "name": "stdout",
     "output_type": "stream",
     "text": [
      "Iteration No: 83 ended. Search finished for the next optimal point.\n",
      "Time taken: 8.4572\n",
      "Function value obtained: 0.1402\n",
      "Current minimum: 0.1402\n",
      "Iteration No: 84 started. Searching for the next optimal point.\n"
     ]
    },
    {
     "name": "stderr",
     "output_type": "stream",
     "text": [
      "The objective has been evaluated at this point before.\n"
     ]
    },
    {
     "name": "stdout",
     "output_type": "stream",
     "text": [
      "Iteration No: 84 ended. Search finished for the next optimal point.\n",
      "Time taken: 9.0463\n",
      "Function value obtained: 0.1413\n",
      "Current minimum: 0.1402\n",
      "Iteration No: 85 started. Searching for the next optimal point.\n"
     ]
    },
    {
     "name": "stderr",
     "output_type": "stream",
     "text": [
      "The objective has been evaluated at this point before.\n"
     ]
    },
    {
     "name": "stdout",
     "output_type": "stream",
     "text": [
      "Iteration No: 85 ended. Search finished for the next optimal point.\n",
      "Time taken: 7.5734\n",
      "Function value obtained: 0.1582\n",
      "Current minimum: 0.1402\n",
      "Iteration No: 86 started. Searching for the next optimal point.\n"
     ]
    },
    {
     "name": "stderr",
     "output_type": "stream",
     "text": [
      "The objective has been evaluated at this point before.\n"
     ]
    },
    {
     "name": "stdout",
     "output_type": "stream",
     "text": [
      "Iteration No: 86 ended. Search finished for the next optimal point.\n",
      "Time taken: 8.4855\n",
      "Function value obtained: 0.1405\n",
      "Current minimum: 0.1402\n",
      "Iteration No: 87 started. Searching for the next optimal point.\n"
     ]
    },
    {
     "name": "stderr",
     "output_type": "stream",
     "text": [
      "The objective has been evaluated at this point before.\n"
     ]
    },
    {
     "name": "stdout",
     "output_type": "stream",
     "text": [
      "Iteration No: 87 ended. Search finished for the next optimal point.\n",
      "Time taken: 8.4861\n",
      "Function value obtained: 0.1405\n",
      "Current minimum: 0.1402\n",
      "Iteration No: 88 started. Searching for the next optimal point.\n"
     ]
    },
    {
     "name": "stderr",
     "output_type": "stream",
     "text": [
      "The objective has been evaluated at this point before.\n"
     ]
    },
    {
     "name": "stdout",
     "output_type": "stream",
     "text": [
      "Iteration No: 88 ended. Search finished for the next optimal point.\n",
      "Time taken: 8.4805\n",
      "Function value obtained: 0.1402\n",
      "Current minimum: 0.1402\n",
      "Iteration No: 89 started. Searching for the next optimal point.\n"
     ]
    },
    {
     "name": "stderr",
     "output_type": "stream",
     "text": [
      "The objective has been evaluated at this point before.\n"
     ]
    },
    {
     "name": "stdout",
     "output_type": "stream",
     "text": [
      "Iteration No: 89 ended. Search finished for the next optimal point.\n",
      "Time taken: 8.8488\n",
      "Function value obtained: 0.1402\n",
      "Current minimum: 0.1402\n",
      "Iteration No: 90 started. Searching for the next optimal point.\n"
     ]
    },
    {
     "name": "stderr",
     "output_type": "stream",
     "text": [
      "The objective has been evaluated at this point before.\n"
     ]
    },
    {
     "name": "stdout",
     "output_type": "stream",
     "text": [
      "Iteration No: 90 ended. Search finished for the next optimal point.\n",
      "Time taken: 9.0535\n",
      "Function value obtained: 0.1404\n",
      "Current minimum: 0.1402\n",
      "Iteration No: 91 started. Searching for the next optimal point.\n"
     ]
    },
    {
     "name": "stderr",
     "output_type": "stream",
     "text": [
      "The objective has been evaluated at this point before.\n"
     ]
    },
    {
     "name": "stdout",
     "output_type": "stream",
     "text": [
      "Iteration No: 91 ended. Search finished for the next optimal point.\n",
      "Time taken: 10.1719\n",
      "Function value obtained: 0.1404\n",
      "Current minimum: 0.1402\n",
      "Iteration No: 92 started. Searching for the next optimal point.\n"
     ]
    },
    {
     "name": "stderr",
     "output_type": "stream",
     "text": [
      "The objective has been evaluated at this point before.\n"
     ]
    },
    {
     "name": "stdout",
     "output_type": "stream",
     "text": [
      "Iteration No: 92 ended. Search finished for the next optimal point.\n",
      "Time taken: 9.3044\n",
      "Function value obtained: 0.1405\n",
      "Current minimum: 0.1402\n",
      "Iteration No: 93 started. Searching for the next optimal point.\n"
     ]
    },
    {
     "name": "stderr",
     "output_type": "stream",
     "text": [
      "The objective has been evaluated at this point before.\n"
     ]
    },
    {
     "name": "stdout",
     "output_type": "stream",
     "text": [
      "Iteration No: 93 ended. Search finished for the next optimal point.\n",
      "Time taken: 9.1916\n",
      "Function value obtained: 0.1402\n",
      "Current minimum: 0.1402\n",
      "Iteration No: 94 started. Searching for the next optimal point.\n"
     ]
    },
    {
     "name": "stderr",
     "output_type": "stream",
     "text": [
      "The objective has been evaluated at this point before.\n"
     ]
    },
    {
     "name": "stdout",
     "output_type": "stream",
     "text": [
      "Iteration No: 94 ended. Search finished for the next optimal point.\n",
      "Time taken: 10.3492\n",
      "Function value obtained: 0.1402\n",
      "Current minimum: 0.1402\n",
      "Iteration No: 95 started. Searching for the next optimal point.\n"
     ]
    },
    {
     "name": "stderr",
     "output_type": "stream",
     "text": [
      "The objective has been evaluated at this point before.\n"
     ]
    },
    {
     "name": "stdout",
     "output_type": "stream",
     "text": [
      "Iteration No: 95 ended. Search finished for the next optimal point.\n",
      "Time taken: 9.6830\n",
      "Function value obtained: 0.1402\n",
      "Current minimum: 0.1402\n",
      "Iteration No: 96 started. Searching for the next optimal point.\n"
     ]
    },
    {
     "name": "stderr",
     "output_type": "stream",
     "text": [
      "The objective has been evaluated at this point before.\n"
     ]
    },
    {
     "name": "stdout",
     "output_type": "stream",
     "text": [
      "Iteration No: 96 ended. Search finished for the next optimal point.\n",
      "Time taken: 9.4216\n",
      "Function value obtained: 0.1402\n",
      "Current minimum: 0.1402\n",
      "Iteration No: 97 started. Searching for the next optimal point.\n"
     ]
    },
    {
     "name": "stderr",
     "output_type": "stream",
     "text": [
      "The objective has been evaluated at this point before.\n"
     ]
    },
    {
     "name": "stdout",
     "output_type": "stream",
     "text": [
      "Iteration No: 97 ended. Search finished for the next optimal point.\n",
      "Time taken: 9.3605\n",
      "Function value obtained: 0.1413\n",
      "Current minimum: 0.1402\n",
      "Iteration No: 98 started. Searching for the next optimal point.\n",
      "Iteration No: 98 ended. Search finished for the next optimal point.\n",
      "Time taken: 6.3545\n",
      "Function value obtained: 0.3367\n",
      "Current minimum: 0.1402\n",
      "Iteration No: 99 started. Searching for the next optimal point.\n",
      "Iteration No: 99 ended. Search finished for the next optimal point.\n",
      "Time taken: 8.3534\n",
      "Function value obtained: 0.1659\n",
      "Current minimum: 0.1402\n",
      "Iteration No: 100 started. Searching for the next optimal point.\n"
     ]
    },
    {
     "name": "stderr",
     "output_type": "stream",
     "text": [
      "The objective has been evaluated at this point before.\n"
     ]
    },
    {
     "name": "stdout",
     "output_type": "stream",
     "text": [
      "Iteration No: 100 ended. Search finished for the next optimal point.\n",
      "Time taken: 9.7818\n",
      "Function value obtained: 0.1406\n",
      "Current minimum: 0.1402\n",
      "best params:  OrderedDict([('base_estimator__max_depth', 32)])\n",
      "estimating accuracy...\n",
      "tuning hyperparameters for XGBoost...\n",
      "Iteration No: 1 started. Searching for the next optimal point.\n",
      "Iteration No: 1 ended. Search finished for the next optimal point.\n",
      "Time taken: 0.6986\n",
      "Function value obtained: 0.4532\n",
      "Current minimum: 0.4532\n",
      "Iteration No: 2 started. Searching for the next optimal point.\n",
      "Iteration No: 2 ended. Search finished for the next optimal point.\n",
      "Time taken: 0.2230\n",
      "Function value obtained: 0.8342\n",
      "Current minimum: 0.4532\n",
      "Iteration No: 3 started. Searching for the next optimal point.\n",
      "Iteration No: 3 ended. Search finished for the next optimal point.\n",
      "Time taken: 4.0479\n",
      "Function value obtained: 0.1905\n",
      "Current minimum: 0.1905\n",
      "Iteration No: 4 started. Searching for the next optimal point.\n",
      "Iteration No: 4 ended. Search finished for the next optimal point.\n",
      "Time taken: 0.2684\n",
      "Function value obtained: 0.8342\n",
      "Current minimum: 0.1905\n",
      "Iteration No: 5 started. Searching for the next optimal point.\n",
      "Iteration No: 5 ended. Search finished for the next optimal point.\n",
      "Time taken: 0.7298\n",
      "Function value obtained: 0.5029\n",
      "Current minimum: 0.1905\n",
      "Iteration No: 6 started. Searching for the next optimal point.\n",
      "Iteration No: 6 ended. Search finished for the next optimal point.\n",
      "Time taken: 0.2820\n",
      "Function value obtained: 0.8342\n",
      "Current minimum: 0.1905\n",
      "Iteration No: 7 started. Searching for the next optimal point.\n",
      "Iteration No: 7 ended. Search finished for the next optimal point.\n",
      "Time taken: 0.3780\n",
      "Function value obtained: 0.7893\n",
      "Current minimum: 0.1905\n",
      "Iteration No: 8 started. Searching for the next optimal point.\n",
      "Iteration No: 8 ended. Search finished for the next optimal point.\n",
      "Time taken: 0.7303\n",
      "Function value obtained: 0.4847\n",
      "Current minimum: 0.1905\n",
      "Iteration No: 9 started. Searching for the next optimal point.\n",
      "Iteration No: 9 ended. Search finished for the next optimal point.\n",
      "Time taken: 0.2258\n",
      "Function value obtained: 0.8342\n",
      "Current minimum: 0.1905\n",
      "Iteration No: 10 started. Searching for the next optimal point.\n",
      "Iteration No: 10 ended. Search finished for the next optimal point.\n",
      "Time taken: 2.3835\n",
      "Function value obtained: 0.1762\n",
      "Current minimum: 0.1762\n",
      "Iteration No: 11 started. Searching for the next optimal point.\n",
      "Iteration No: 11 ended. Search finished for the next optimal point.\n",
      "Time taken: 2.5883\n",
      "Function value obtained: 0.1761\n",
      "Current minimum: 0.1761\n",
      "Iteration No: 12 started. Searching for the next optimal point.\n",
      "Iteration No: 12 ended. Search finished for the next optimal point.\n",
      "Time taken: 1.6940\n",
      "Function value obtained: 0.8340\n",
      "Current minimum: 0.1761\n",
      "Iteration No: 13 started. Searching for the next optimal point.\n",
      "Iteration No: 13 ended. Search finished for the next optimal point.\n",
      "Time taken: 6.5179\n",
      "Function value obtained: 0.1987\n",
      "Current minimum: 0.1761\n",
      "Iteration No: 14 started. Searching for the next optimal point.\n",
      "Iteration No: 14 ended. Search finished for the next optimal point.\n",
      "Time taken: 6.2143\n",
      "Function value obtained: 0.1986\n",
      "Current minimum: 0.1761\n",
      "Iteration No: 15 started. Searching for the next optimal point.\n",
      "Iteration No: 15 ended. Search finished for the next optimal point.\n",
      "Time taken: 3.1296\n",
      "Function value obtained: 0.1770\n",
      "Current minimum: 0.1761\n",
      "Iteration No: 16 started. Searching for the next optimal point.\n",
      "Iteration No: 16 ended. Search finished for the next optimal point.\n",
      "Time taken: 6.2918\n",
      "Function value obtained: 0.1984\n",
      "Current minimum: 0.1761\n",
      "Iteration No: 17 started. Searching for the next optimal point.\n",
      "Iteration No: 17 ended. Search finished for the next optimal point.\n",
      "Time taken: 1.5245\n",
      "Function value obtained: 0.6944\n",
      "Current minimum: 0.1761\n",
      "Iteration No: 18 started. Searching for the next optimal point.\n",
      "Iteration No: 18 ended. Search finished for the next optimal point.\n",
      "Time taken: 4.8273\n",
      "Function value obtained: 0.1892\n",
      "Current minimum: 0.1761\n",
      "Iteration No: 19 started. Searching for the next optimal point.\n",
      "Iteration No: 19 ended. Search finished for the next optimal point.\n",
      "Time taken: 3.1907\n",
      "Function value obtained: 0.1785\n",
      "Current minimum: 0.1761\n",
      "Iteration No: 20 started. Searching for the next optimal point.\n",
      "Iteration No: 20 ended. Search finished for the next optimal point.\n",
      "Time taken: 1.3287\n",
      "Function value obtained: 0.8342\n",
      "Current minimum: 0.1761\n",
      "Iteration No: 21 started. Searching for the next optimal point.\n",
      "Iteration No: 21 ended. Search finished for the next optimal point.\n",
      "Time taken: 4.5678\n",
      "Function value obtained: 0.1891\n",
      "Current minimum: 0.1761\n",
      "Iteration No: 22 started. Searching for the next optimal point.\n",
      "Iteration No: 22 ended. Search finished for the next optimal point.\n",
      "Time taken: 6.6426\n",
      "Function value obtained: 0.1990\n",
      "Current minimum: 0.1761\n",
      "Iteration No: 23 started. Searching for the next optimal point.\n",
      "Iteration No: 23 ended. Search finished for the next optimal point.\n",
      "Time taken: 6.1507\n",
      "Function value obtained: 0.1961\n",
      "Current minimum: 0.1761\n",
      "Iteration No: 24 started. Searching for the next optimal point.\n",
      "Iteration No: 24 ended. Search finished for the next optimal point.\n",
      "Time taken: 6.6085\n",
      "Function value obtained: 0.1989\n",
      "Current minimum: 0.1761\n",
      "Iteration No: 25 started. Searching for the next optimal point.\n",
      "Iteration No: 25 ended. Search finished for the next optimal point.\n",
      "Time taken: 2.0816\n",
      "Function value obtained: 0.2751\n",
      "Current minimum: 0.1761\n",
      "Iteration No: 26 started. Searching for the next optimal point.\n",
      "Iteration No: 26 ended. Search finished for the next optimal point.\n",
      "Time taken: 6.6491\n",
      "Function value obtained: 0.1982\n",
      "Current minimum: 0.1761\n",
      "Iteration No: 27 started. Searching for the next optimal point.\n",
      "Iteration No: 27 ended. Search finished for the next optimal point.\n",
      "Time taken: 3.5339\n",
      "Function value obtained: 0.1763\n",
      "Current minimum: 0.1761\n",
      "Iteration No: 28 started. Searching for the next optimal point.\n",
      "Iteration No: 28 ended. Search finished for the next optimal point.\n",
      "Time taken: 1.9847\n",
      "Function value obtained: 0.8342\n",
      "Current minimum: 0.1761\n",
      "Iteration No: 29 started. Searching for the next optimal point.\n",
      "Iteration No: 29 ended. Search finished for the next optimal point.\n",
      "Time taken: 4.2702\n",
      "Function value obtained: 0.1877\n",
      "Current minimum: 0.1761\n",
      "Iteration No: 30 started. Searching for the next optimal point.\n",
      "Iteration No: 30 ended. Search finished for the next optimal point.\n",
      "Time taken: 2.7880\n",
      "Function value obtained: 0.1781\n",
      "Current minimum: 0.1761\n",
      "Iteration No: 31 started. Searching for the next optimal point.\n",
      "Iteration No: 31 ended. Search finished for the next optimal point.\n",
      "Time taken: 1.9311\n",
      "Function value obtained: 0.8313\n",
      "Current minimum: 0.1761\n",
      "Iteration No: 32 started. Searching for the next optimal point.\n",
      "Iteration No: 32 ended. Search finished for the next optimal point.\n",
      "Time taken: 7.5671\n",
      "Function value obtained: 0.1975\n",
      "Current minimum: 0.1761\n",
      "Iteration No: 33 started. Searching for the next optimal point.\n",
      "Iteration No: 33 ended. Search finished for the next optimal point.\n",
      "Time taken: 4.5710\n",
      "Function value obtained: 0.1797\n",
      "Current minimum: 0.1761\n",
      "Iteration No: 34 started. Searching for the next optimal point.\n",
      "Iteration No: 34 ended. Search finished for the next optimal point.\n",
      "Time taken: 4.8827\n",
      "Function value obtained: 0.1855\n",
      "Current minimum: 0.1761\n",
      "Iteration No: 35 started. Searching for the next optimal point.\n",
      "Iteration No: 35 ended. Search finished for the next optimal point.\n",
      "Time taken: 3.6557\n",
      "Function value obtained: 0.1760\n",
      "Current minimum: 0.1760\n",
      "Iteration No: 36 started. Searching for the next optimal point.\n",
      "Iteration No: 36 ended. Search finished for the next optimal point.\n",
      "Time taken: 3.4002\n",
      "Function value obtained: 0.1758\n",
      "Current minimum: 0.1758\n",
      "Iteration No: 37 started. Searching for the next optimal point.\n",
      "Iteration No: 37 ended. Search finished for the next optimal point.\n",
      "Time taken: 4.5320\n",
      "Function value obtained: 0.1871\n",
      "Current minimum: 0.1758\n",
      "Iteration No: 38 started. Searching for the next optimal point.\n",
      "Iteration No: 38 ended. Search finished for the next optimal point.\n",
      "Time taken: 4.3449\n",
      "Function value obtained: 0.1876\n",
      "Current minimum: 0.1758\n",
      "Iteration No: 39 started. Searching for the next optimal point.\n",
      "Iteration No: 39 ended. Search finished for the next optimal point.\n",
      "Time taken: 6.3342\n",
      "Function value obtained: 0.1927\n",
      "Current minimum: 0.1758\n",
      "Iteration No: 40 started. Searching for the next optimal point.\n",
      "Iteration No: 40 ended. Search finished for the next optimal point.\n",
      "Time taken: 3.8080\n",
      "Function value obtained: 0.1826\n",
      "Current minimum: 0.1758\n",
      "Iteration No: 41 started. Searching for the next optimal point.\n",
      "Iteration No: 41 ended. Search finished for the next optimal point.\n",
      "Time taken: 4.6833\n",
      "Function value obtained: 0.1907\n",
      "Current minimum: 0.1758\n",
      "Iteration No: 42 started. Searching for the next optimal point.\n",
      "Iteration No: 42 ended. Search finished for the next optimal point.\n",
      "Time taken: 5.5661\n",
      "Function value obtained: 0.1929\n",
      "Current minimum: 0.1758\n",
      "Iteration No: 43 started. Searching for the next optimal point.\n",
      "Iteration No: 43 ended. Search finished for the next optimal point.\n",
      "Time taken: 6.4559\n",
      "Function value obtained: 0.1950\n",
      "Current minimum: 0.1758\n",
      "Iteration No: 44 started. Searching for the next optimal point.\n",
      "Iteration No: 44 ended. Search finished for the next optimal point.\n",
      "Time taken: 5.5631\n",
      "Function value obtained: 0.1906\n",
      "Current minimum: 0.1758\n",
      "Iteration No: 45 started. Searching for the next optimal point.\n",
      "Iteration No: 45 ended. Search finished for the next optimal point.\n",
      "Time taken: 3.6958\n",
      "Function value obtained: 0.1743\n",
      "Current minimum: 0.1743\n",
      "Iteration No: 46 started. Searching for the next optimal point.\n",
      "Iteration No: 46 ended. Search finished for the next optimal point.\n",
      "Time taken: 3.6193\n",
      "Function value obtained: 0.1754\n",
      "Current minimum: 0.1743\n",
      "Iteration No: 47 started. Searching for the next optimal point.\n",
      "Iteration No: 47 ended. Search finished for the next optimal point.\n",
      "Time taken: 3.6598\n",
      "Function value obtained: 0.1753\n",
      "Current minimum: 0.1743\n",
      "Iteration No: 48 started. Searching for the next optimal point.\n",
      "Iteration No: 48 ended. Search finished for the next optimal point.\n",
      "Time taken: 3.8388\n",
      "Function value obtained: 0.1749\n",
      "Current minimum: 0.1743\n",
      "Iteration No: 49 started. Searching for the next optimal point.\n",
      "Iteration No: 49 ended. Search finished for the next optimal point.\n",
      "Time taken: 3.5592\n",
      "Function value obtained: 0.1768\n",
      "Current minimum: 0.1743\n",
      "Iteration No: 50 started. Searching for the next optimal point.\n",
      "Iteration No: 50 ended. Search finished for the next optimal point.\n",
      "Time taken: 4.5143\n",
      "Function value obtained: 0.1824\n",
      "Current minimum: 0.1743\n",
      "Iteration No: 51 started. Searching for the next optimal point.\n",
      "Iteration No: 51 ended. Search finished for the next optimal point.\n",
      "Time taken: 4.0177\n",
      "Function value obtained: 0.1745\n",
      "Current minimum: 0.1743\n",
      "Iteration No: 52 started. Searching for the next optimal point.\n",
      "Iteration No: 52 ended. Search finished for the next optimal point.\n",
      "Time taken: 5.4892\n",
      "Function value obtained: 0.1887\n",
      "Current minimum: 0.1743\n",
      "Iteration No: 53 started. Searching for the next optimal point.\n",
      "Iteration No: 53 ended. Search finished for the next optimal point.\n",
      "Time taken: 6.7823\n",
      "Function value obtained: 0.1967\n",
      "Current minimum: 0.1743\n",
      "Iteration No: 54 started. Searching for the next optimal point.\n",
      "Iteration No: 54 ended. Search finished for the next optimal point.\n",
      "Time taken: 5.1680\n",
      "Function value obtained: 0.1816\n",
      "Current minimum: 0.1743\n",
      "Iteration No: 55 started. Searching for the next optimal point.\n",
      "Iteration No: 55 ended. Search finished for the next optimal point.\n",
      "Time taken: 3.4164\n",
      "Function value obtained: 0.1896\n",
      "Current minimum: 0.1743\n",
      "Iteration No: 56 started. Searching for the next optimal point.\n",
      "Iteration No: 56 ended. Search finished for the next optimal point.\n",
      "Time taken: 4.3832\n",
      "Function value obtained: 0.1773\n",
      "Current minimum: 0.1743\n",
      "Iteration No: 57 started. Searching for the next optimal point.\n",
      "Iteration No: 57 ended. Search finished for the next optimal point.\n",
      "Time taken: 5.1228\n",
      "Function value obtained: 0.1763\n",
      "Current minimum: 0.1743\n",
      "Iteration No: 58 started. Searching for the next optimal point.\n",
      "Iteration No: 58 ended. Search finished for the next optimal point.\n",
      "Time taken: 4.6639\n",
      "Function value obtained: 0.1743\n",
      "Current minimum: 0.1743\n",
      "Iteration No: 59 started. Searching for the next optimal point.\n",
      "Iteration No: 59 ended. Search finished for the next optimal point.\n",
      "Time taken: 4.4909\n",
      "Function value obtained: 0.1741\n",
      "Current minimum: 0.1741\n",
      "Iteration No: 60 started. Searching for the next optimal point.\n",
      "Iteration No: 60 ended. Search finished for the next optimal point.\n",
      "Time taken: 5.0121\n",
      "Function value obtained: 0.1745\n",
      "Current minimum: 0.1741\n",
      "Iteration No: 61 started. Searching for the next optimal point.\n",
      "Iteration No: 61 ended. Search finished for the next optimal point.\n",
      "Time taken: 5.5071\n",
      "Function value obtained: 0.1804\n",
      "Current minimum: 0.1741\n",
      "Iteration No: 62 started. Searching for the next optimal point.\n",
      "Iteration No: 62 ended. Search finished for the next optimal point.\n",
      "Time taken: 5.2201\n",
      "Function value obtained: 0.1740\n",
      "Current minimum: 0.1740\n",
      "Iteration No: 63 started. Searching for the next optimal point.\n",
      "Iteration No: 63 ended. Search finished for the next optimal point.\n",
      "Time taken: 4.7506\n",
      "Function value obtained: 0.1738\n",
      "Current minimum: 0.1738\n",
      "Iteration No: 64 started. Searching for the next optimal point.\n",
      "Iteration No: 64 ended. Search finished for the next optimal point.\n",
      "Time taken: 4.7387\n",
      "Function value obtained: 0.1732\n",
      "Current minimum: 0.1732\n",
      "Iteration No: 65 started. Searching for the next optimal point.\n",
      "Iteration No: 65 ended. Search finished for the next optimal point.\n",
      "Time taken: 4.7544\n",
      "Function value obtained: 0.1736\n",
      "Current minimum: 0.1732\n",
      "Iteration No: 66 started. Searching for the next optimal point.\n",
      "Iteration No: 66 ended. Search finished for the next optimal point.\n",
      "Time taken: 4.5672\n",
      "Function value obtained: 0.1762\n",
      "Current minimum: 0.1732\n",
      "Iteration No: 67 started. Searching for the next optimal point.\n",
      "Iteration No: 67 ended. Search finished for the next optimal point.\n",
      "Time taken: 4.7185\n",
      "Function value obtained: 0.1756\n",
      "Current minimum: 0.1732\n",
      "Iteration No: 68 started. Searching for the next optimal point.\n",
      "Iteration No: 68 ended. Search finished for the next optimal point.\n",
      "Time taken: 5.0378\n",
      "Function value obtained: 0.1750\n",
      "Current minimum: 0.1732\n",
      "Iteration No: 69 started. Searching for the next optimal point.\n",
      "Iteration No: 69 ended. Search finished for the next optimal point.\n",
      "Time taken: 5.0799\n",
      "Function value obtained: 0.1735\n",
      "Current minimum: 0.1732\n",
      "Iteration No: 70 started. Searching for the next optimal point.\n",
      "Iteration No: 70 ended. Search finished for the next optimal point.\n",
      "Time taken: 5.0137\n",
      "Function value obtained: 0.1739\n",
      "Current minimum: 0.1732\n",
      "Iteration No: 71 started. Searching for the next optimal point.\n",
      "Iteration No: 71 ended. Search finished for the next optimal point.\n",
      "Time taken: 5.0763\n",
      "Function value obtained: 0.1761\n",
      "Current minimum: 0.1732\n",
      "Iteration No: 72 started. Searching for the next optimal point.\n",
      "Iteration No: 72 ended. Search finished for the next optimal point.\n",
      "Time taken: 4.7425\n",
      "Function value obtained: 0.1762\n",
      "Current minimum: 0.1732\n",
      "Iteration No: 73 started. Searching for the next optimal point.\n",
      "Iteration No: 73 ended. Search finished for the next optimal point.\n",
      "Time taken: 4.9499\n",
      "Function value obtained: 0.1746\n",
      "Current minimum: 0.1732\n",
      "Iteration No: 74 started. Searching for the next optimal point.\n",
      "Iteration No: 74 ended. Search finished for the next optimal point.\n",
      "Time taken: 4.7874\n",
      "Function value obtained: 0.1882\n",
      "Current minimum: 0.1732\n",
      "Iteration No: 75 started. Searching for the next optimal point.\n",
      "Iteration No: 75 ended. Search finished for the next optimal point.\n",
      "Time taken: 4.8661\n",
      "Function value obtained: 0.1771\n",
      "Current minimum: 0.1732\n",
      "Iteration No: 76 started. Searching for the next optimal point.\n",
      "Iteration No: 76 ended. Search finished for the next optimal point.\n",
      "Time taken: 5.5520\n",
      "Function value obtained: 0.1840\n",
      "Current minimum: 0.1732\n",
      "Iteration No: 77 started. Searching for the next optimal point.\n",
      "Iteration No: 77 ended. Search finished for the next optimal point.\n",
      "Time taken: 4.6726\n",
      "Function value obtained: 0.1748\n",
      "Current minimum: 0.1732\n",
      "Iteration No: 78 started. Searching for the next optimal point.\n",
      "Iteration No: 78 ended. Search finished for the next optimal point.\n",
      "Time taken: 8.5267\n",
      "Function value obtained: 0.1990\n",
      "Current minimum: 0.1732\n",
      "Iteration No: 79 started. Searching for the next optimal point.\n",
      "Iteration No: 79 ended. Search finished for the next optimal point.\n",
      "Time taken: 5.4530\n",
      "Function value obtained: 0.1745\n",
      "Current minimum: 0.1732\n",
      "Iteration No: 80 started. Searching for the next optimal point.\n",
      "Iteration No: 80 ended. Search finished for the next optimal point.\n",
      "Time taken: 5.2049\n",
      "Function value obtained: 0.1744\n",
      "Current minimum: 0.1732\n",
      "Iteration No: 81 started. Searching for the next optimal point.\n",
      "Iteration No: 81 ended. Search finished for the next optimal point.\n",
      "Time taken: 5.0791\n",
      "Function value obtained: 0.1754\n",
      "Current minimum: 0.1732\n",
      "Iteration No: 82 started. Searching for the next optimal point.\n",
      "Iteration No: 82 ended. Search finished for the next optimal point.\n",
      "Time taken: 5.9070\n",
      "Function value obtained: 0.1763\n",
      "Current minimum: 0.1732\n",
      "Iteration No: 83 started. Searching for the next optimal point.\n",
      "Iteration No: 83 ended. Search finished for the next optimal point.\n",
      "Time taken: 5.2609\n",
      "Function value obtained: 0.1740\n",
      "Current minimum: 0.1732\n",
      "Iteration No: 84 started. Searching for the next optimal point.\n",
      "Iteration No: 84 ended. Search finished for the next optimal point.\n",
      "Time taken: 5.3960\n",
      "Function value obtained: 0.1750\n",
      "Current minimum: 0.1732\n",
      "Iteration No: 85 started. Searching for the next optimal point.\n",
      "Iteration No: 85 ended. Search finished for the next optimal point.\n",
      "Time taken: 6.1329\n",
      "Function value obtained: 0.1744\n",
      "Current minimum: 0.1732\n",
      "Iteration No: 86 started. Searching for the next optimal point.\n",
      "Iteration No: 86 ended. Search finished for the next optimal point.\n",
      "Time taken: 5.4576\n",
      "Function value obtained: 0.1760\n",
      "Current minimum: 0.1732\n",
      "Iteration No: 87 started. Searching for the next optimal point.\n",
      "Iteration No: 87 ended. Search finished for the next optimal point.\n",
      "Time taken: 6.6227\n",
      "Function value obtained: 0.1785\n",
      "Current minimum: 0.1732\n",
      "Iteration No: 88 started. Searching for the next optimal point.\n",
      "Iteration No: 88 ended. Search finished for the next optimal point.\n",
      "Time taken: 5.1926\n",
      "Function value obtained: 0.1818\n",
      "Current minimum: 0.1732\n",
      "Iteration No: 89 started. Searching for the next optimal point.\n",
      "Iteration No: 89 ended. Search finished for the next optimal point.\n",
      "Time taken: 5.2691\n",
      "Function value obtained: 0.1807\n",
      "Current minimum: 0.1732\n",
      "Iteration No: 90 started. Searching for the next optimal point.\n",
      "Iteration No: 90 ended. Search finished for the next optimal point.\n",
      "Time taken: 5.2581\n",
      "Function value obtained: 0.1764\n",
      "Current minimum: 0.1732\n",
      "Iteration No: 91 started. Searching for the next optimal point.\n",
      "Iteration No: 91 ended. Search finished for the next optimal point.\n",
      "Time taken: 6.2265\n",
      "Function value obtained: 0.1747\n",
      "Current minimum: 0.1732\n",
      "Iteration No: 92 started. Searching for the next optimal point.\n",
      "Iteration No: 92 ended. Search finished for the next optimal point.\n",
      "Time taken: 6.0287\n",
      "Function value obtained: 0.1752\n",
      "Current minimum: 0.1732\n",
      "Iteration No: 93 started. Searching for the next optimal point.\n",
      "Iteration No: 93 ended. Search finished for the next optimal point.\n",
      "Time taken: 9.4666\n",
      "Function value obtained: 0.1990\n",
      "Current minimum: 0.1732\n",
      "Iteration No: 94 started. Searching for the next optimal point.\n",
      "Iteration No: 94 ended. Search finished for the next optimal point.\n",
      "Time taken: 5.9001\n",
      "Function value obtained: 0.1745\n",
      "Current minimum: 0.1732\n",
      "Iteration No: 95 started. Searching for the next optimal point.\n",
      "Iteration No: 95 ended. Search finished for the next optimal point.\n",
      "Time taken: 6.3707\n",
      "Function value obtained: 0.1760\n",
      "Current minimum: 0.1732\n",
      "Iteration No: 96 started. Searching for the next optimal point.\n",
      "Iteration No: 96 ended. Search finished for the next optimal point.\n",
      "Time taken: 6.4189\n",
      "Function value obtained: 0.1753\n",
      "Current minimum: 0.1732\n",
      "Iteration No: 97 started. Searching for the next optimal point.\n",
      "Iteration No: 97 ended. Search finished for the next optimal point.\n",
      "Time taken: 5.9084\n",
      "Function value obtained: 0.1749\n",
      "Current minimum: 0.1732\n",
      "Iteration No: 98 started. Searching for the next optimal point.\n",
      "Iteration No: 98 ended. Search finished for the next optimal point.\n",
      "Time taken: 4.4419\n",
      "Function value obtained: 0.8342\n",
      "Current minimum: 0.1732\n",
      "Iteration No: 99 started. Searching for the next optimal point.\n",
      "Iteration No: 99 ended. Search finished for the next optimal point.\n",
      "Time taken: 6.0337\n",
      "Function value obtained: 0.1751\n",
      "Current minimum: 0.1732\n",
      "Iteration No: 100 started. Searching for the next optimal point.\n",
      "Iteration No: 100 ended. Search finished for the next optimal point.\n",
      "Time taken: 6.4834\n",
      "Function value obtained: 0.1742\n",
      "Current minimum: 0.1732\n",
      "best params:  OrderedDict([('max_depth', 25), ('reg_alpha', 2.266874456435393e-05), ('reg_lambda', 0.20824566188701754)])\n",
      "estimating accuracy...\n"
     ]
    }
   ],
   "source": [
    "n_iter = 100\n",
    "for model in models:\n",
    "    print(\"tuning hyperparameters for {}...\".format(model[\"name\"]))\n",
    "    bs = BayesSearchCV(model[\"model\"], model[\"search_space\"], n_iter=n_iter, cv=GroupKFold(n_splits=5), \n",
    "                       return_train_score=True, random_state=0, scoring=maape_scorer)\n",
    "    bs.fit(X, y, grp, VerboseCallback(n_iter))\n",
    "    model[\"train_scores\"] = (bs.cv_results_[\"mean_train_score\"], bs.cv_results_[\"std_train_score\"])\n",
    "    model[\"valid_scores\"] = (bs.cv_results_[\"mean_test_score\"], bs.cv_results_[\"std_test_score\"])\n",
    "    model[\"best_params\"] = bs.best_params_\n",
    "    model[\"model\"] = bs.best_estimator_\n",
    "    print(\"best params: \", bs.best_params_)\n",
    "    print(\"estimating accuracy...\")\n",
    "    model[\"test_scores\"] = []\n",
    "    for train_idx, test_idx in GroupKFold(n_splits=10).split(X, y, grp):\n",
    "        X_train, y_train = X.iloc[train_idx], y.iloc[train_idx]\n",
    "        X_test, y_test = X.iloc[test_idx], y.iloc[test_idx]\n",
    "        model[\"model\"].fit(X_train, y_train)\n",
    "        y_pred = model[\"model\"].predict(X_test)\n",
    "        model[\"test_scores\"].append(MAAPE(y_test, y_pred))"
   ]
  },
  {
   "cell_type": "code",
   "execution_count": 135,
   "metadata": {},
   "outputs": [
    {
     "data": {
      "image/png": "[encoded data removed]",
      "text/plain": [
       "<Figure size 720x432 with 1 Axes>"
      ]
     },
     "metadata": {
      "needs_background": "light"
     },
     "output_type": "display_data"
    }
   ],
   "source": [
    "def argmax_accum(arr):\n",
    "    idx = []\n",
    "    for i, a in enumerate(arr):\n",
    "        idx.append(i if not idx or a > arr[idx[-1]] else idx[-1])\n",
    "    return idx\n",
    "\n",
    "plt.figure(figsize=(10,6))\n",
    "for model, color, ls in zip(models, [\"tab:red\", \"tab:blue\", \"tab:green\", \"tab:purple\"], [\"-\", \"--\", \":\", \"-.\"]):\n",
    "    m = np.array(model[\"valid_scores\"][0])\n",
    "    s = np.array(model[\"valid_scores\"][1])\n",
    "    m = np.hstack((m[0], m))\n",
    "    s = np.hstack((s[0], s))\n",
    "    idx = argmax_accum(m)\n",
    "    plt.fill_between(np.arange(len(m)), -m[idx] - s[idx], -m[idx] + s[idx], alpha=0.25, color=color)\n",
    "    plt.plot(np.arange(len(m)), -m[idx], label=model[\"name\"], color=color, ls=ls, lw=3)\n",
    "\n",
    "plt.semilogx()\n",
    "font = font_manager.FontProperties(size=20)\n",
    "plt.legend(frameon=False, prop=font, loc=[0.6, 0.55], ncol=1)\n",
    "plt.xlim(1, 100)\n",
    "plt.ylim(0.11, 0.49)\n",
    "plt.xticks(fontsize=20)\n",
    "plt.yticks(fontsize=20)\n",
    "plt.xlabel(\"Hyperparameter Tuning Iterations\", fontsize=20)\n",
    "plt.ylabel(u\"Best Validation MAAPE Score\", fontsize=20)\n",
    "plt.tight_layout()\n",
    "plt.savefig(\"../figures/model/train-convergence.pdf\")"
   ]
  },
  {
   "cell_type": "code",
   "execution_count": 123,
   "metadata": {},
   "outputs": [
    {
     "name": "stdout",
     "output_type": "stream",
     "text": [
      "Polynomial Ridge is 57.35117260079909 standard deviations below the baseline\n",
      "Random Forest is 99.65264477027596 standard deviations below the baseline\n",
      "AdaBoost is 98.43535853077202 standard deviations below the baseline\n",
      "XGBoost is 106.27983614318943 standard deviations below the baseline\n"
     ]
    },
    {
     "data": {
      "image/png": "[encoded data removed]",
      "text/plain": [
       "<Figure size 720x432 with 1 Axes>"
      ]
     },
     "metadata": {
      "needs_background": "light"
     },
     "output_type": "display_data"
    }
   ],
   "source": [
    "for model in models:\n",
    "    num_std = (maape_base - np.max(model[\"test_scores\"])) / np.std(model[\"test_scores\"])\n",
    "    print(\"{} is {} standard deviations below the baseline\".format(model[\"name\"], num_std))\n",
    "\n",
    "plt.figure(figsize=(10,6))\n",
    "plt.boxplot([model[\"test_scores\"] for model in models], vert=False, labels=[model[\"name\"] for model in models], showfliers=False)\n",
    "plt.xticks(fontsize=20)\n",
    "plt.yticks(fontsize=20, ha=\"left\")\n",
    "plt.tick_params(axis=\"y\", pad=-20, length=0)\n",
    "plt.xlabel(u\"Test MAAPE Score\", fontsize=20)\n",
    "plt.xlim(0.075, 0.25)\n",
    "plt.tight_layout()\n",
    "plt.savefig(\"../figures/model/test-scores.pdf\")"
   ]
  },
  {
   "cell_type": "code",
   "execution_count": 125,
   "metadata": {},
   "outputs": [],
   "source": [
    "for model in models:\n",
    "    if \"n_estimators\" in model[\"model\"].get_params().keys():\n",
    "        model[\"model\"].set_params(n_estimators=100)\n",
    "    model[\"model\"].fit(X, y)\n",
    "    \n",
    "pickle.dump(models, open(\"trained-model.pkl\", \"wb\"))"
   ]
  },
  {
   "cell_type": "code",
   "execution_count": 133,
   "metadata": {},
   "outputs": [],
   "source": [
    "model = models[2][\"model\"]\n",
    "\n",
    "explainer = shap.TreeExplainer(model)\n",
    "\n",
    "np.random.seed(0)\n",
    "X_shap = X.iloc[np.random.choice(len(X), 100, replace=False)]\n",
    "shap_values = explainer.shap_values(X_shap)"
   ]
  },
  {
   "cell_type": "code",
   "execution_count": 134,
   "metadata": {},
   "outputs": [
    {
     "data": {
      "image/png": "[encoded data removed]",
      "text/plain": [
       "<Figure size 720x432 with 1 Axes>"
      ]
     },
     "metadata": {
      "needs_background": "light"
     },
     "output_type": "display_data"
    }
   ],
   "source": [
    "labels = {\"z\": r\"$z$\", \"theta\": r\"$\\theta$\", \"z_dot\": r\"$\\dot{z}$\", \"theta_dot\": r\"$\\dot{\\theta}$\"}\n",
    "\n",
    "plt.figure(figsize=(10, 6))\n",
    "plt.boxplot(np.abs(shap_values), vert=False, labels=[labels[col] for col in X_shap.columns], showfliers=False)\n",
    "plt.xticks(fontsize=20)\n",
    "plt.yticks(fontsize=20, ha=\"left\")\n",
    "plt.tick_params(axis=\"y\", pad=-20, length=0)\n",
    "plt.xlim(-0.4, 4)\n",
    "plt.xlabel(\"Absolute value of SHAP values\", fontsize=20)\n",
    "plt.tight_layout()\n",
    "plt.savefig(\"../figures/model/shap-values.pdf\")"
   ]
  },
  {
   "cell_type": "code",
   "execution_count": null,
   "metadata": {},
   "outputs": [],
   "source": []
  }
 ],
 "metadata": {
  "kernelspec": {
   "display_name": "Python 3",
   "language": "python",
   "name": "python3"
  },
  "language_info": {
   "codemirror_mode": {
    "name": "ipython",
    "version": 3
   },
   "file_extension": ".py",
   "mimetype": "text/x-python",
   "name": "python",
   "nbconvert_exporter": "python",
   "pygments_lexer": "ipython3",
   "version": "3.7.8"
  }
 },
 "nbformat": 4,
 "nbformat_minor": 4
}
